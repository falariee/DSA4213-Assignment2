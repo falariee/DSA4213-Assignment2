{
  "cells": [
    {
      "cell_type": "markdown",
      "metadata": {
        "id": "XBBDU0odCQjE"
      },
      "source": [
        "# DSA4213 Assignment 2"
      ]
    },
    {
      "cell_type": "markdown",
      "metadata": {
        "id": "mTzRte55v_hC"
      },
      "source": [
        "### Download dataset"
      ]
    },
    {
      "cell_type": "code",
      "execution_count": 4,
      "metadata": {
        "colab": {
          "base_uri": "https://localhost:8080/"
        },
        "id": "AZdMW_LxwBQl",
        "outputId": "39a11d0a-0e8a-4b46-c84f-068010b9c816"
      },
      "outputs": [],
      "source": [
        "import requests\n",
        "\n",
        "url = \"https://raw.githubusercontent.com/karpathy/char-rnn/master/data/tinyshakespeare/input.txt\"\n",
        "response = requests.get(url)\n",
        "with open(\"tinyshakespeare.txt\", \"w\", encoding=\"utf-8\") as f:\n",
        "    f.write(response.text)\n"
      ]
    },
    {
      "cell_type": "markdown",
      "metadata": {
        "id": "ILxC3yHFPe2L"
      },
      "source": [
        "### Imports and setup"
      ]
    },
    {
      "cell_type": "code",
      "execution_count": 5,
      "metadata": {
        "id": "3dLI6nTQPg1P"
      },
      "outputs": [],
      "source": [
        "import time\n",
        "import math\n",
        "import torch\n",
        "import torch.nn as nn\n",
        "from torch.utils.data import DataLoader, Dataset\n",
        "from collections import Counter\n",
        "from tqdm import tqdm\n",
        "import matplotlib.pyplot as plt"
      ]
    },
    {
      "cell_type": "markdown",
      "metadata": {
        "id": "G_o-9I_7Pmu3"
      },
      "source": [
        "### Dataset preparation"
      ]
    },
    {
      "cell_type": "code",
      "execution_count": 6,
      "metadata": {
        "id": "7jW0-k2xPl9H"
      },
      "outputs": [],
      "source": [
        "class TextDataset(Dataset):\n",
        "    def __init__(self, text, vocab, seq_len=128):\n",
        "        self.vocab = vocab\n",
        "        self.itos = list(vocab.keys())\n",
        "        self.stoi = {w: i for i, w in enumerate(self.itos)}\n",
        "        self.data = [self.stoi[w] for w in text]\n",
        "        self.seq_len = seq_len\n",
        "\n",
        "    def __len__(self):\n",
        "        return len(self.data) - self.seq_len\n",
        "\n",
        "    def __getitem__(self, idx):\n",
        "        x = torch.tensor(self.data[idx:idx+self.seq_len], dtype=torch.long)\n",
        "        y = torch.tensor(self.data[idx+1:idx+self.seq_len+1], dtype=torch.long)\n",
        "        return x, y\n",
        "\n",
        "def build_vocab(tokens, min_freq=1):\n",
        "    counter = Counter(tokens)\n",
        "    vocab = {word: i for i, (word, freq) in enumerate(counter.items()) if freq >= min_freq}\n",
        "    return vocab\n",
        "\n",
        "def tokenize(text, level=\"word\"):\n",
        "    if level == \"word\":\n",
        "        return text.split()\n",
        "    else:  # char-level\n",
        "        return list(text)"
      ]
    },
    {
      "cell_type": "markdown",
      "metadata": {
        "id": "0Id6p-xFPtKU"
      },
      "source": [
        "### Build RNN Model"
      ]
    },
    {
      "cell_type": "code",
      "execution_count": 7,
      "metadata": {
        "id": "-MaB9_JyPwYj"
      },
      "outputs": [],
      "source": [
        "class RNNModel(nn.Module):\n",
        "    def __init__(self, vocab_size, embed_size=128, hidden_size=256, num_layers=2, dropout=0.2):\n",
        "        super().__init__()\n",
        "        self.embed = nn.Embedding(vocab_size, embed_size)\n",
        "        self.rnn = nn.RNN(embed_size, hidden_size, num_layers,\n",
        "                          dropout=dropout, batch_first=True)\n",
        "        self.fc = nn.Linear(hidden_size, vocab_size)\n",
        "\n",
        "    def forward(self, x, hidden=None):\n",
        "        x = self.embed(x)\n",
        "        out, hidden = self.rnn(x, hidden)\n",
        "        out = self.fc(out)\n",
        "        return out, hidden\n"
      ]
    },
    {
      "cell_type": "markdown",
      "metadata": {
        "id": "ocHiMxykQKBM"
      },
      "source": [
        "### Evaluation Functions"
      ]
    },
    {
      "cell_type": "code",
      "execution_count": 8,
      "metadata": {
        "id": "AaH7CBhqQMP5"
      },
      "outputs": [],
      "source": [
        "def evaluate(model, loader, criterion, device):\n",
        "    model.eval()\n",
        "    total_loss = 0\n",
        "    with torch.no_grad():\n",
        "        for x, y in loader:\n",
        "            x, y = x.to(device), y.to(device)\n",
        "            out, _ = model(x)\n",
        "            loss = criterion(out.view(-1, out.size(-1)), y.view(-1))\n",
        "            total_loss += loss.item()\n",
        "    return total_loss / len(loader)"
      ]
    },
    {
      "cell_type": "markdown",
      "metadata": {
        "id": "2_0eS-HYRQCK"
      },
      "source": [
        "### Training loops"
      ]
    },
    {
      "cell_type": "code",
      "execution_count": null,
      "metadata": {
        "id": "S8ux8-mMRSPy"
      },
      "outputs": [],
      "source": [
        "def train_model(train_loader, val_loader, model, criterion,\n",
        "                optimizer, epochs=3, clip=1.0, device=\"cpu\"):\n",
        "    model = model.to(device)\n",
        "    train_losses, val_losses = [], []\n",
        "    start_time = time.time()\n",
        "\n",
        "    for epoch in range(1, epochs+1):\n",
        "        model.train()\n",
        "        total_loss = 0\n",
        "        for x, y in tqdm(train_loader, desc=f\"Epoch {epoch}\"):\n",
        "            x, y = x.to(device), y.to(device)\n",
        "            optimizer.zero_grad()\n",
        "            out, _ = model(x)\n",
        "            loss = criterion(out.view(-1, out.size(-1)), y.view(-1))\n",
        "            loss.backward()\n",
        "            nn.utils.clip_grad_norm_(model.parameters(), clip)\n",
        "            optimizer.step()\n",
        "            total_loss += loss.item()\n",
        "\n",
        "        avg_train_loss = total_loss / len(train_loader)\n",
        "        avg_val_loss = evaluate(model, val_loader, criterion, device)\n",
        "\n",
        "        train_losses.append(avg_train_loss)\n",
        "        val_losses.append(avg_val_loss)\n",
        "\n",
        "        print(f\"Epoch {epoch}: Train Loss {avg_train_loss:.3f}, \"\n",
        "              f\"Val Loss {avg_val_loss:.3f}, Val PPL {math.exp(avg_val_loss):.3f}\")\n",
        "\n",
        "    total_time = time.time() - start_time\n",
        "    print(f\"\\nTraining finished in {total_time:.2f} seconds\")\n",
        "\n",
        "    # Plot training curve\n",
        "    plt.figure()\n",
        "    plt.plot(train_losses, label=\"Train Loss\")\n",
        "    plt.plot(val_losses, label=\"Validation Loss\")\n",
        "    plt.xlabel(\"Epochs\")\n",
        "    plt.ylabel(\"Loss\")\n",
        "    plt.legend()\n",
        "    plt.title(\"Training and Validation Loss\")\n",
        "    plt.savefig(\"loss_curve.png\")\n",
        "    plt.close()\n",
        "\n",
        "    return train_losses, val_losses, total_time"
      ]
    },
    {
      "cell_type": "markdown",
      "metadata": {
        "id": "8GWWfvQLQXrI"
      },
      "source": [
        "### Text generation"
      ]
    },
    {
      "cell_type": "code",
      "execution_count": 10,
      "metadata": {
        "id": "ZbAFdZDWQbLo"
      },
      "outputs": [],
      "source": [
        "def generate_text(model, seed_text, stoi, itos,\n",
        "                  length=200, temperature=1.0, device=\"cpu\"):\n",
        "    model.eval()\n",
        "    input_seq = torch.tensor([stoi.get(ch, 0) for ch in seed_text],\n",
        "                             dtype=torch.long).unsqueeze(0).to(device)\n",
        "    hidden = None\n",
        "    output_text = seed_text\n",
        "\n",
        "    with torch.no_grad():\n",
        "        for _ in range(length):\n",
        "            out, hidden = model(input_seq, hidden)\n",
        "            logits = out[:, -1, :] / temperature\n",
        "            probs = torch.softmax(logits, dim=-1)\n",
        "            next_idx = torch.multinomial(probs, 1).item()\n",
        "            next_char = itos[next_idx]\n",
        "            output_text += next_char\n",
        "            input_seq = torch.tensor([[next_idx]], dtype=torch.long).to(device)\n",
        "    return output_text\n"
      ]
    },
    {
      "cell_type": "markdown",
      "metadata": {
        "id": "b_cU39dQQcr9"
      },
      "source": [
        "### Main runner"
      ]
    },
    {
      "cell_type": "code",
      "execution_count": null,
      "metadata": {
        "colab": {
          "base_uri": "https://localhost:8080/"
        },
        "id": "nwmw7DIwQsQl",
        "outputId": "066e9544-6c06-4e9e-e736-d0c8826467db"
      },
      "outputs": [
        {
          "name": "stdout",
          "output_type": "stream",
          "text": [
            "Using device: cpu\n"
          ]
        },
        {
          "name": "stderr",
          "output_type": "stream",
          "text": [
            "Epoch 1:  79%|███████▊  | 3977/5064 [54:09<15:30,  1.17it/s] "
          ]
        }
      ],
      "source": [
        "if __name__ == \"__main__\":\n",
        "    # Configs\n",
        "    seq_len = 128\n",
        "    tokenize_level = \"word\"\n",
        "    batch_size = 32\n",
        "    epochs = 3\n",
        "    lr = 1e-3\n",
        "    device = \"cuda\" if torch.cuda.is_available() else \"cpu\"\n",
        "    print(\"Using device:\", device)\n",
        "\n",
        "    # Load data\n",
        "    with open(\"tinyshakespeare.txt\", \"r\", encoding=\"utf-8\") as f:\n",
        "        raw_text = f.read()\n",
        "\n",
        "    tokens = tokenize(raw_text, tokenize_level)\n",
        "    vocab = build_vocab(tokens)\n",
        "    dataset = TextDataset(tokens, vocab, seq_len=seq_len)\n",
        "\n",
        "    # Split 80/10/10\n",
        "    n = len(dataset)\n",
        "    train_size = int(0.8 * n)\n",
        "    val_size = int(0.1 * n)\n",
        "    test_size = n - train_size - val_size\n",
        "    train_ds, val_ds, test_ds = torch.utils.data.random_split(dataset, [train_size, val_size, test_size])\n",
        "\n",
        "    train_loader = DataLoader(train_ds, batch_size=batch_size, shuffle=True)\n",
        "    val_loader = DataLoader(val_ds, batch_size=batch_size)\n",
        "    test_loader = DataLoader(test_ds, batch_size=batch_size)\n",
        "\n",
        "    # Model, loss, optimizer\n",
        "    model = RNNModel(len(vocab), embed_size=128, hidden_size=256,\n",
        "                     num_layers=2, dropout=0.2)\n",
        "    criterion = nn.CrossEntropyLoss()\n",
        "    optimizer = torch.optim.Adam(model.parameters(), lr=lr)\n",
        "\n",
        "    # Train\n",
        "    train_losses, val_losses, train_time = train_model(\n",
        "        train_loader, val_loader, model, criterion, optimizer,\n",
        "        epochs=epochs, clip=1.0, device=device\n",
        "    )\n",
        "\n",
        "    # Test\n",
        "    test_loss = evaluate(model, test_loader, criterion, device)\n",
        "    print(f\"\\nTest Loss: {test_loss:.3f}, Test PPL: {math.exp(test_loss):.3f}\")\n",
        "\n",
        "    # Generate samples\n",
        "    stoi = dataset.stoi\n",
        "    itos = dataset.itos\n",
        "    for T in [0.7, 1.0, 1.3]:\n",
        "        sample = generate_text(model, seed_text=\"ROMEO:\", stoi=stoi, itos=itos,\n",
        "                               length=300, temperature=T, device=device)\n",
        "        print(f\"\\nSample (T={T}):\\n{sample}\\n\")"
      ]
    },
    {
      "cell_type": "markdown",
      "metadata": {
        "id": "jepxcYuASZQj"
      },
      "source": [
        "### Evaluation"
      ]
    },
    {
      "cell_type": "code",
      "execution_count": null,
      "metadata": {
        "id": "JmkVFANhSaYr"
      },
      "outputs": [],
      "source": [
        "import json\n",
        "import os\n",
        "\n",
        "def save_evaluation(train_losses, val_losses, train_time, test_loss, model, dataset, out_dir=\"results\"):\n",
        "    os.makedirs(out_dir, exist_ok=True)\n",
        "\n",
        "    # Save losses + metrics to JSON\n",
        "    results = {\n",
        "        \"train_losses\": train_losses,\n",
        "        \"val_losses\": val_losses,\n",
        "        \"train_time_sec\": train_time,\n",
        "        \"test_loss\": test_loss,\n",
        "        \"test_perplexity\": math.exp(test_loss),\n",
        "        \n",
        "    }\n",
        "\n",
        "    with open(os.path.join(out_dir, \"evaluation.json\"), \"w\") as f:\n",
        "        json.dump(results, f, indent=4)\n",
        "\n",
        "    # Save model + vocab for reuse\n",
        "    torch.save(model.state_dict(), os.path.join(out_dir, \"rnn_model.pt\"))\n",
        "    torch.save({\"stoi\": dataset.stoi, \"itos\": dataset.itos}, os.path.join(out_dir, \"vocab.pt\"))\n",
        "\n",
        "    print(f\"Evaluation and model saved to: {out_dir}/\")\n"
      ]
    }
  ],
  "metadata": {
    "colab": {
      "provenance": []
    },
    "kernelspec": {
      "display_name": "insyncenv",
      "language": "python",
      "name": "python3"
    },
    "language_info": {
      "codemirror_mode": {
        "name": "ipython",
        "version": 3
      },
      "file_extension": ".py",
      "mimetype": "text/x-python",
      "name": "python",
      "nbconvert_exporter": "python",
      "pygments_lexer": "ipython3",
      "version": "3.11.11"
    }
  },
  "nbformat": 4,
  "nbformat_minor": 0
}
