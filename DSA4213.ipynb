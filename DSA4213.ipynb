{
  "cells": [
    {
      "cell_type": "markdown",
      "metadata": {
        "id": "XBBDU0odCQjE"
      },
      "source": [
        "# DSA4213 Assignment 2"
      ]
    },
    {
      "cell_type": "markdown",
      "metadata": {
        "id": "mTzRte55v_hC"
      },
      "source": [
        "### Download dataset"
      ]
    },
    {
      "cell_type": "code",
      "execution_count": 1,
      "metadata": {
        "colab": {
          "base_uri": "https://localhost:8080/"
        },
        "id": "AZdMW_LxwBQl",
        "outputId": "39a11d0a-0e8a-4b46-c84f-068010b9c816"
      },
      "outputs": [],
      "source": [
        "import requests\n",
        "\n",
        "url = \"https://raw.githubusercontent.com/karpathy/char-rnn/master/data/tinyshakespeare/input.txt\"\n",
        "response = requests.get(url)\n",
        "with open(\"tinyshakespeare.txt\", \"w\", encoding=\"utf-8\") as f:\n",
        "    f.write(response.text)\n"
      ]
    },
    {
      "cell_type": "markdown",
      "metadata": {
        "id": "ILxC3yHFPe2L"
      },
      "source": [
        "### Imports and setup"
      ]
    },
    {
      "cell_type": "code",
      "execution_count": 2,
      "metadata": {
        "id": "3dLI6nTQPg1P"
      },
      "outputs": [],
      "source": [
        "import time\n",
        "import math\n",
        "import torch\n",
        "import torch.nn as nn\n",
        "from torch.utils.data import DataLoader, Dataset\n",
        "from collections import Counter\n",
        "from tqdm import tqdm\n",
        "import matplotlib.pyplot as plt"
      ]
    },
    {
      "cell_type": "markdown",
      "metadata": {
        "id": "G_o-9I_7Pmu3"
      },
      "source": [
        "### Dataset preparation"
      ]
    },
    {
      "cell_type": "code",
      "execution_count": 12,
      "metadata": {},
      "outputs": [],
      "source": [
        "\n",
        "# --- Helper functions ---\n",
        "def build_vocab(tokens, min_freq=1):\n",
        "    counter = Counter(tokens)\n",
        "    vocab = {word: i for i, (word, freq) in enumerate(counter.items()) if freq >= min_freq}\n",
        "    return vocab\n",
        "\n",
        "def tokenize(text, level=\"char\"):\n",
        "    if level == \"word\":\n",
        "        return text.split()\n",
        "    else:  # char-level\n",
        "        return list(text)\n",
        "\n",
        "# --- Dataset class ---\n",
        "class TextDataset(Dataset):\n",
        "    def __init__(self, text, vocab, seq_len=5):\n",
        "        self.vocab = vocab\n",
        "        self.itos = list(vocab.keys())\n",
        "        self.stoi = {w: i for i, w in enumerate(self.itos)}\n",
        "        self.data = [self.stoi[w] for w in text]\n",
        "        self.seq_len = seq_len\n",
        "\n",
        "    def __len__(self):\n",
        "        return len(self.data) - self.seq_len\n",
        "\n",
        "    def __getitem__(self, idx):\n",
        "        x = torch.tensor(self.data[idx:idx+self.seq_len], dtype=torch.long)\n",
        "        y = torch.tensor(self.data[idx+1:idx+self.seq_len+1], dtype=torch.long)\n",
        "        return x, y"
      ]
    },
    {
      "cell_type": "markdown",
      "metadata": {
        "id": "0Id6p-xFPtKU"
      },
      "source": [
        "### Build RNN Model"
      ]
    },
    {
      "cell_type": "code",
      "execution_count": 7,
      "metadata": {
        "id": "-MaB9_JyPwYj"
      },
      "outputs": [],
      "source": [
        "class RNNModel(nn.Module):\n",
        "    def __init__(self, vocab_size, embed_size=128, hidden_size=256, num_layers=2, dropout=0.2):\n",
        "        super().__init__()\n",
        "        self.embed = nn.Embedding(vocab_size, embed_size)\n",
        "        self.rnn = nn.RNN(embed_size, hidden_size, num_layers,\n",
        "                          dropout=dropout, batch_first=True)\n",
        "        self.fc = nn.Linear(hidden_size, vocab_size)\n",
        "\n",
        "    def forward(self, x, hidden=None):\n",
        "        x = self.embed(x)\n",
        "        out, hidden = self.rnn(x, hidden)\n",
        "        out = self.fc(out)\n",
        "        return out, hidden\n"
      ]
    },
    {
      "cell_type": "markdown",
      "metadata": {
        "id": "ocHiMxykQKBM"
      },
      "source": [
        "### Evaluation Functions"
      ]
    },
    {
      "cell_type": "code",
      "execution_count": 8,
      "metadata": {
        "id": "AaH7CBhqQMP5"
      },
      "outputs": [],
      "source": [
        "def evaluate(model, loader, criterion, device):\n",
        "    model.eval()\n",
        "    total_loss = 0\n",
        "    with torch.no_grad():\n",
        "        for x, y in loader:\n",
        "            x, y = x.to(device), y.to(device)\n",
        "            out, _ = model(x)\n",
        "            loss = criterion(out.view(-1, out.size(-1)), y.view(-1))\n",
        "            total_loss += loss.item()\n",
        "    return total_loss / len(loader)"
      ]
    },
    {
      "cell_type": "markdown",
      "metadata": {
        "id": "2_0eS-HYRQCK"
      },
      "source": [
        "### Training loops"
      ]
    },
    {
      "cell_type": "code",
      "execution_count": null,
      "metadata": {
        "id": "S8ux8-mMRSPy"
      },
      "outputs": [],
      "source": [
        "def train_model(train_loader, val_loader, model, criterion,\n",
        "                optimizer, epochs=3, clip=1.0, device=\"cpu\"):\n",
        "    model = model.to(device)\n",
        "    train_losses, val_losses = [], []\n",
        "    start_time = time.time()\n",
        "\n",
        "    for epoch in range(1, epochs+1):\n",
        "        model.train()\n",
        "        total_loss = 0\n",
        "        for x, y in tqdm(train_loader, desc=f\"Epoch {epoch}\"):\n",
        "            x, y = x.to(device), y.to(device)\n",
        "            optimizer.zero_grad()\n",
        "            out, _ = model(x)\n",
        "            loss = criterion(out.view(-1, out.size(-1)), y.view(-1))\n",
        "            loss.backward()\n",
        "            nn.utils.clip_grad_norm_(model.parameters(), clip)\n",
        "            optimizer.step()\n",
        "            total_loss += loss.item()\n",
        "\n",
        "        avg_train_loss = total_loss / len(train_loader)\n",
        "        avg_val_loss = evaluate(model, val_loader, criterion, device)\n",
        "\n",
        "        train_losses.append(avg_train_loss)\n",
        "        val_losses.append(avg_val_loss)\n",
        "\n",
        "        print(f\"Epoch {epoch}: Train Loss {avg_train_loss:.3f}, \"\n",
        "              f\"Val Loss {avg_val_loss:.3f}, Val PPL {math.exp(avg_val_loss):.3f}\")\n",
        "\n",
        "    total_time = time.time() - start_time\n",
        "    print(f\"\\nTraining finished in {total_time:.2f} seconds\")\n",
        "\n",
        "    # Plot training curve\n",
        "    plt.figure()\n",
        "    plt.plot(train_losses, label=\"Train Loss\")\n",
        "    plt.plot(val_losses, label=\"Validation Loss\")\n",
        "    plt.xlabel(\"Epochs\")\n",
        "    plt.ylabel(\"Loss\")\n",
        "    plt.legend()\n",
        "    plt.title(\"Training and Validation Loss\")\n",
        "    plt.savefig(\"loss_curve.png\")\n",
        "    plt.close()\n",
        "\n",
        "    return train_losses, val_losses, total_time"
      ]
    },
    {
      "cell_type": "markdown",
      "metadata": {
        "id": "8GWWfvQLQXrI"
      },
      "source": [
        "### Text generation"
      ]
    },
    {
      "cell_type": "code",
      "execution_count": 10,
      "metadata": {
        "id": "ZbAFdZDWQbLo"
      },
      "outputs": [],
      "source": [
        "def generate_text(model, seed_text, stoi, itos,\n",
        "                  length=200, temperature=1.0, device=\"cpu\"):\n",
        "    model.eval()\n",
        "    input_seq = torch.tensor([stoi.get(ch, 0) for ch in seed_text],\n",
        "                             dtype=torch.long).unsqueeze(0).to(device)\n",
        "    hidden = None\n",
        "    output_text = seed_text\n",
        "\n",
        "    with torch.no_grad():\n",
        "        for _ in range(length):\n",
        "            out, hidden = model(input_seq, hidden)\n",
        "            logits = out[:, -1, :] / temperature\n",
        "            probs = torch.softmax(logits, dim=-1)\n",
        "            next_idx = torch.multinomial(probs, 1).item()\n",
        "            next_char = itos[next_idx]\n",
        "            output_text += next_char\n",
        "            input_seq = torch.tensor([[next_idx]], dtype=torch.long).to(device)\n",
        "    return output_text\n"
      ]
    },
    {
      "cell_type": "markdown",
      "metadata": {
        "id": "b_cU39dQQcr9"
      },
      "source": [
        "### Main runner"
      ]
    },
    {
      "cell_type": "code",
      "execution_count": 36,
      "metadata": {
        "colab": {
          "base_uri": "https://localhost:8080/"
        },
        "id": "nwmw7DIwQsQl",
        "outputId": "066e9544-6c06-4e9e-e736-d0c8826467db"
      },
      "outputs": [
        {
          "name": "stdout",
          "output_type": "stream",
          "text": [
            "Using device: cpu\n"
          ]
        },
        {
          "name": "stderr",
          "output_type": "stream",
          "text": [
            "Epoch 1: 100%|██████████| 5064/5064 [1:04:26<00:00,  1.31it/s]\n"
          ]
        },
        {
          "name": "stdout",
          "output_type": "stream",
          "text": [
            "Epoch 1: Train Loss 3.748, Val Loss 1.450, Val PPL 4.262\n"
          ]
        },
        {
          "name": "stderr",
          "output_type": "stream",
          "text": [
            "Epoch 2: 100%|██████████| 5064/5064 [1:00:40<00:00,  1.39it/s]\n"
          ]
        },
        {
          "name": "stdout",
          "output_type": "stream",
          "text": [
            "Epoch 2: Train Loss 1.390, Val Loss 0.658, Val PPL 1.931\n"
          ]
        },
        {
          "name": "stderr",
          "output_type": "stream",
          "text": [
            "Epoch 3: 100%|██████████| 5064/5064 [1:00:32<00:00,  1.39it/s]\n"
          ]
        },
        {
          "name": "stdout",
          "output_type": "stream",
          "text": [
            "Epoch 3: Train Loss 0.915, Val Loss 0.413, Val PPL 1.512\n",
            "\n",
            "Training finished in 11595.51 seconds\n",
            "\n",
            "Test Loss: 0.413, Test PPL: 1.512\n",
            "\n",
            "Sample (T=0.7):\n",
            "ROMEO:MyLordofGloucester,Ithatmypoorbrother.O,howIdotoheavenYoubreakacrustatall,andyouarewellunderstoodThathorseshallpardonhiminthefield,Wehavemadepeaceworthylords,andhisgreatjustice:Andinrequestofsweetandmyservanthere.Butifyouseethisworthylife,nostaintheairAndnotherbeautynornoneelsetheydoseemuponyourfather'sprayerAndindevotionspendtheirlossWhichwearesurebyanddrinkingfindme,AndClarenceandatlove,sobothasthemannerandthemoveablesWhereofwemaybeadmittedEnvironedeverydayinhimseemtobe,forhismind.ROMEO:Thenneverthatthekingisdead.LEONTES:WhoshallhinderforthisdaysnorsetMyfriend,Hewillstandalone;Thoughreadysoearlyinhismistress'GREMIO:ButsinceweheardofgeneralShouldhavetoldhersontoyourcrown!KINGRICHARDII:WethankmefromtheplaceisheWillawaytherightanddothcurstwithus.QUEENMARGARET:SonameIhope,sheis,anddothehiretheirwickedandisfullofdread:Yecannotreasonthatthoubecomestmyheart!YORK:Thepeopleisbecomeanalehouseguest?KINGRICHARDII:Joinnotwithgrief,fairwoman,sofaroffTohavethebaseearthupthesweetestkindoftears,andtenassuranceWiththyfoulwrongs.Myself,aprincedeath,Butlovehisdaughter'slifemayyieldtohimtillweshallfindagainstthee,thatnowthyfatherHathbyhisway,thatmightthebellydidovertoRome,andlethisgrow!O,thatthoulikenessofwickedones.Is'tnot\n",
            "\n",
            "\n",
            "Sample (T=1.0):\n",
            "ROMEO:MyLordofGloucester,goodtimetothispreservative,valiantsons.Whenwewouldprovehimlight.HERMIONE:Othematter?Messenger:Well,hemaydotodocastthecompany:AndsometimeIlettersbeforehishappinessheinhishandandcuthimhelp,buttheyshallcomefrommybody'sloveTilltimehadnoandbringhimabideThatHenrythekinghadhescrapeanColdgracesomuchamaidhathgotfair,AsifIneedbutthatwasnobetterman.Comeitisdone,ForIwillnotbedistraught,Environedthat,Imaybeheard,Iwouldcraveaworldransomed,ToberevengedonRivers,Vaughan,Grey:WereIbutgoodmyfather'sfriend,HathneverthatHenrysomustbefast,AndyetcamedownthetreasuresmanshallneverWeresolongasanotheroutasyouknowHaveyoutheoffice,isthedeepsonofday.QUEENELIZABETH:ShallIbetemptedofthedevilthus?KINGRICHARDIII:Why,hisnoblecousin,killyou?whitherbethyJULIET:WhatmaybemarriedtodieTillhewouldwakenuntilitalloursufferance.CAPULET:PasswouldIdoandabrothercanitbestAstellingisfriendlythanks,withrageAndgoodsupportersbad,yetthankyou?AUTOLYCUS:Icannottell:Wemustdisguiseourselves.AUTOLYCUS:Whendaffodilsbegintopeer,Withheigh!thedoxyarethehandofhim.BRUTUS:'Tisaconditionandaman,thatImightdo.Letmenot,youneednotourtardyButtheamerceon't,wewillnotknow,WhereisourbrothercutthisleagueForwonwhichIdidcall'dhim.FirstSenator:Faith,orso;givemeleave,IfsodoI.\n",
            "\n",
            "\n",
            "Sample (T=1.3):\n",
            "ROMEO:What,shallmylungsCoinwaywebeingmembers,hewasthreeyearsinitandheardyourogue!out.GLOUCESTER:ForrightyoufurthertimewouldmakemeansBysomerebukeorhatredwhatyouOfwhatwillout-talkanyguard,Thattheyhavekeptthatsuchamindmaybe,MyfatherwithmypraiseIprovemyself,AndthusyourhearthavecometotheeAndseehimseatedinourrequest,becomebackTheking.Ourgreenofservicemymosthere'sathing,Andcalloneword:falltodeath:Godreturnbutthenwastimetoalterhimhiswife;I'llmakesuchcareAshecouldcallit:itwillbemarriedo'Sunday.CLARENCE:Howmanyhisgriefhathnotlikeit,Whocouldbeknownbygriefdivine,orheartorjusticeshallbeso.PARIS:Doitnow,I'llkissMariana'susethineownthetomb,givemehimlife,AndnowdothhetheblooduponthedaughterOfaidandnews,thanmenbidmeHolduponyourhonourBytimeAsyouinyoursilentsake;andletitnotformyear.GONZALO:YourqueenhathIthistomycurse!GLOUCESTER:Thequeenwehaveshedlessandtosteel'dtogether,Wecannotfromtheheart:thedaydown,Theotherfellow:didstwedofitthethingWhereinhim.GLOUCESTER:Ablessedbeholdingmayyouwelcomelonger,dinnermated.QUEENMARGARET:Come,stay;sorroweverymadlackofblessedakind,OfcomingClifford,soundtheethenourpertinentTheoldcock.SecondServant:but,whenyoudidspeakyourownyourgreatnessThat,littlelittlebesthearyou,henceandputhimInhismotheranddisgraced,andcutofftheleftOfwho\n",
            "\n"
          ]
        }
      ],
      "source": [
        "if __name__ == \"__main__\":\n",
        "    # Configs\n",
        "    seq_len = 128\n",
        "    tokenize_level = \"word\"\n",
        "    batch_size = 32\n",
        "    epochs = 3\n",
        "    lr = 1e-3\n",
        "    device = \"cuda\" if torch.cuda.is_available() else \"cpu\"\n",
        "    print(\"Using device:\", device)\n",
        "\n",
        "    # Load data\n",
        "    with open(\"tinyshakespeare.txt\", \"r\", encoding=\"utf-8\") as f:\n",
        "        raw_text = f.read()\n",
        "\n",
        "    tokens = tokenize(raw_text, tokenize_level)\n",
        "    vocab = build_vocab(tokens)\n",
        "    dataset = TextDataset(tokens, vocab, seq_len=seq_len)\n",
        "\n",
        "    # Split 80/10/10\n",
        "    n = len(dataset)\n",
        "    train_size = int(0.8 * n)\n",
        "    val_size = int(0.1 * n)\n",
        "    test_size = n - train_size - val_size\n",
        "    train_ds, val_ds, test_ds = torch.utils.data.random_split(dataset, [train_size, val_size, test_size])\n",
        "\n",
        "    train_loader = DataLoader(train_ds, batch_size=batch_size, shuffle=True)\n",
        "    val_loader = DataLoader(val_ds, batch_size=batch_size)\n",
        "    test_loader = DataLoader(test_ds, batch_size=batch_size)\n",
        "\n",
        "    # Model, loss, optimizer\n",
        "    model = RNNModel(len(vocab), embed_size=128, hidden_size=256,\n",
        "                     num_layers=2, dropout=0.2)\n",
        "    criterion = nn.CrossEntropyLoss()\n",
        "    optimizer = torch.optim.Adam(model.parameters(), lr=lr)\n",
        "\n",
        "    # Train\n",
        "    train_losses, val_losses, train_time = train_model(\n",
        "        train_loader, val_loader, model, criterion, optimizer,\n",
        "        epochs=epochs, clip=1.0, device=device\n",
        "    )\n",
        "\n",
        "    # Test\n",
        "    test_loss = evaluate(model, test_loader, criterion, device)\n",
        "    print(f\"\\nTest Loss: {test_loss:.3f}, Test PPL: {math.exp(test_loss):.3f}\")\n",
        "\n",
        "    # Generate samples\n",
        "    stoi = dataset.stoi\n",
        "    itos = dataset.itos\n",
        "    for T in [0.7, 1.0, 1.3]:\n",
        "        sample = generate_text(model, seed_text=\"ROMEO:\", stoi=stoi, itos=itos,\n",
        "                               length=300, temperature=T, device=device)\n",
        "        print(f\"\\nSample (T={T}):\\n{sample}\\n\")"
      ]
    },
    {
      "cell_type": "code",
      "execution_count": null,
      "metadata": {},
      "outputs": [
        {
          "name": "stdout",
          "output_type": "stream",
          "text": [
            "Model, vocab, and evaluation saved in C:\\Users\\valer\\Desktop\\New folder\\RNN_base\n"
          ]
        },
        {
          "data": {
            "image/png": "[encoded data removed]",
            "text/plain": [
              "<Figure size 800x500 with 1 Axes>"
            ]
          },
          "metadata": {},
          "output_type": "display_data"
        }
      ],
      "source": [
        "import torch\n",
        "import os\n",
        "import math\n",
        "import json\n",
        "\n",
        "# Save everything\n",
        "out_dir = r\"C:\\Users\\valer\\Desktop\\New folder\\RNN_base\"\n",
        "os.makedirs(out_dir, exist_ok=True)\n",
        "\n",
        "# Save model weights\n",
        "torch.save(model.state_dict(), os.path.join(out_dir, \"rnn_model.pt\"))\n",
        "\n",
        "# Save vocab\n",
        "torch.save({\"stoi\": dataset.stoi, \"itos\": dataset.itos}, os.path.join(out_dir, \"vocab.pt\"))\n",
        "\n",
        "# Save evaluation results\n",
        "results = {\n",
        "    \"train_losses\": train_losses,\n",
        "    \"val_losses\": val_losses,\n",
        "    \"train_time_sec\": train_time,\n",
        "    \"test_loss\": test_loss,\n",
        "    \"test_perplexity\": math.exp(test_loss),\n",
        "}\n",
        "with open(os.path.join(out_dir, \"evaluation.json\"), \"w\") as f:\n",
        "    json.dump(results, f, indent=4)\n",
        "\n",
        "print(f\"Model, vocab, and evaluation saved in {out_dir}\")\n",
        "\n",
        "# Load evaluation results\n",
        "with open(r\"C:\\Users\\valer\\Desktop\\New folder\\RNN_base\\evaluation.json\", \"r\") as f:\n",
        "    results = json.load(f)\n",
        "\n",
        "train_losses = results[\"train_losses\"]\n",
        "val_losses = results[\"val_losses\"]\n",
        "\n",
        "# Plot training vs validation loss\n",
        "plt.figure(figsize=(8,5))\n",
        "plt.plot(range(1, len(train_losses)+1), train_losses, label=\"Train Loss\", marker=\"o\")\n",
        "plt.plot(range(1, len(val_losses)+1), val_losses, label=\"Validation Loss\", marker=\"s\")\n",
        "plt.xlabel(\"Epochs\")\n",
        "plt.ylabel(\"Cross-Entropy Loss\")\n",
        "plt.title(\"Training vs Validation Loss\")\n",
        "plt.legend()\n",
        "plt.grid(True)\n",
        "plt.savefig(r\"C:\\Users\\valer\\Desktop\\New folder\\RNN_base\\loss_curve.png\")\n",
        "plt.show()\n"
      ]
    },
    {
      "cell_type": "markdown",
      "metadata": {
        "id": "jepxcYuASZQj"
      },
      "source": [
        "### Main runner Dropout = 0.0"
      ]
    },
    {
      "cell_type": "code",
      "execution_count": 18,
      "metadata": {
        "id": "JmkVFANhSaYr"
      },
      "outputs": [
        {
          "name": "stdout",
          "output_type": "stream",
          "text": [
            "Using device: cpu\n"
          ]
        },
        {
          "name": "stderr",
          "output_type": "stream",
          "text": [
            "Epoch 1: 100%|██████████| 5064/5064 [1:06:15<00:00,  1.27it/s]\n"
          ]
        },
        {
          "name": "stdout",
          "output_type": "stream",
          "text": [
            "Epoch 1: Train Loss 2.894, Val Loss 0.597, Val PPL 1.817\n"
          ]
        },
        {
          "name": "stderr",
          "output_type": "stream",
          "text": [
            "Epoch 2: 100%|██████████| 5064/5064 [1:11:05<00:00,  1.19it/s]\n"
          ]
        },
        {
          "name": "stdout",
          "output_type": "stream",
          "text": [
            "Epoch 2: Train Loss 0.371, Val Loss 0.294, Val PPL 1.342\n"
          ]
        },
        {
          "name": "stderr",
          "output_type": "stream",
          "text": [
            "Epoch 3: 100%|██████████| 5064/5064 [1:01:44<00:00,  1.37it/s]\n"
          ]
        },
        {
          "name": "stdout",
          "output_type": "stream",
          "text": [
            "Epoch 3: Train Loss 0.249, Val Loss 0.256, Val PPL 1.292\n",
            "\n",
            "Training finished in 12441.03 seconds\n",
            "\n",
            "Test Loss: 0.255, Test PPL: 1.291\n",
            "\n",
            "Sample (T=0.7):\n",
            "ROMEO:Omymisery,isfreewithherTowife?MOPSA:Prayyou,leavetokinglysepulchres;andthou,WhichMaycallyouMarcius.WhatsaymykindPOMPEY:IfwhatmostmantotwodayshewoninoneherForthismanofthequeenandhisheadAsthere,Ifear,nottillKingRichardtobeloudweather;Besides,thisplaceunderyourinjuries,Andsigh'dthemattheconsecratedfountAleaguebelowthecity;andfromthence,Bycoldgradationandwell-balancedform,WeshallproceedwithAngelo.Provost:Hereisthehead;I'llcarryitmyself.DUKEVINCENTIO:Convenientisit.Makeaswiftreturn;ForIwouldcommunewithyouofsuchthingsThatwantnoearbutyours.Provost:I'llmakeallspeed.ISABELLA:DUKEVINCENTIO:ThetongueofIsabel.She'scometohimthanmineownyouthandlivinglies;ButshallIgotobringyoutotheseFrommyownfoesmustwithyouthepardonThanmuchandinourbehalfandinwarmHiseyeWhosedoublebosomsseemtowearoneheart,Whosesonandmade,orastheydopastme.QUEENELIZABETH:Mygoodsir,IwouldhehadsomenameFromHenry'seye,andtaketothenumbcoldnight?AllthisfrommyremembrancebrutishwrathSinfullypluck'd,andnotamanofyouHadsomuchgracetohispartPerform'dinhisheart;Iwillnotbeavoidedbutbybadthathaveflatteredthepeople,whoarecome,ButshallIbearandnowagainafterawantthate'ermaybeatThefriendswhichtimethysadwouldpartsentsobyme;andthereforebemustgobuyspicesandcannotdeposeYetIwilldevisea\n",
            "\n",
            "\n",
            "Sample (T=1.0):\n",
            "ROMEO:OmymotherDoesnottaketheehencetoFriarfouldaughter:Lookinyourhonour!ANGELO:Thequeenisvaluedthirtythousandstrong,AndSomerset,withOxfordfledtous,Hewashimselfundershameandonenight:here,Andthat'shimthatisnotyetshipp'dof.MONTAGUE:Ay,peace,butwhathadstthoumenotlie,wouldweepingbymanwouldsthaveitcut?wife,plainground,onepersonmanyofthemitmayseemThat'sandtohisgrave--shallbeking,Andnonecontented:'tiswithoutitoffflourish;I'llleaveyouofmywife?Clown:Iwarrantyou,sir,mostofallmyheart.GLOUCESTER:CousinofBuckingham,awordwithyou.CatesbyhathsoundedHastingsinourbusiness,Andfindsthetestygentlemansohot,Ashewilldrawtoprisonhisqueen:Whendowhichnomore,wereforthegraceThatwiltshallknowhowslackthouart!SecondMurderer:IwouldIwouldhaveitsuddenlyperform'd.Whatsayestthou?speaksuddenly;bebrief.BUCKINGHAM:Yourgracemaydoyoutruthyouthere:youplayOfamansometwomaidoranythinghometotalkoftheirhate,Ihaveexpresscommandment.PETRUCHIO:Why,andbenotofmylifeAndintheheavenofhisbody.SICINIUS:WithfitinsuchmenofMilan,hathbroughtit;Andthoushaltbearsuchout?orperishto-day!Thanthygoodstateandroyalsono'Cominius.FirstWatchman:Sovereign,hereliestheCountyParisslain;AndRomeodead;andJuliet,deadbefore,Warmandnewkill'd.PRINCE:Search,seek,andknowhowthisfoulmurdercomes.FirstWatchman:Hereisafriar,andslaughter'dillAmanofClaudio'syears;hisbeardmyson:Whyneverwhattodo\n",
            "\n",
            "\n",
            "Sample (T=1.3):\n",
            "ROMEO:Whodogeldwherethere'sforme.We'llspeak,Nortokinglycrown,backuponmybosom:Theleastwillbetalking.First,whosegraciousone,WhatpleasureartthououtthisMontague,comefromThesunthatsear'dthewingsoflife,mylords,toseemealltheiraccursedface,Tomakethyrichespleasant.What'sinViennalikeasaint,inthydigressingchamberhere,then,away;sir;thereisatoo,Ihavefromtheejoy,Petruchio!'tisbeforeorsmallGREMIO:AndshallbeshortdespiteofthisstepspowerNorhereistouch'd.IdoperceiveTothefaircountenanceandhiscomingthroughtheearthhathstopp'dAthousandmanagefinethesunnowrestoredtohealth,WhenwhobeingClifford!howcametoomuch,Whiles,thefairandclamourlive,ay,withtruth,hereSaintsingleoutLordAngeloToknowyouandWarwick'sgoodadditionsir;Andhelpitfortheworldthatyoushallhavenotelling.butIamandseesawaythishasteenforceme,andgriefandmoodyfaithNowdyinghimselfandinthythroat,TotakehimbyhishappyjealousiesonClarence,orbreathhim,andtheiractTheotherfoeagainsttheking!Andwasthemorecauseheavydropswithage,ButhowmaylookuponusBaptistatoearth,Bylieandmyselfandslash,Hisheadwithhisandspenthismen:Whereattothysir,fullofmoths.Come;Iknowhischeeknodoubt;Thusthispoormantocourtyourworshipwassubdued;heisgoneaboardthee;Thoutraitor,halfwillmakegoodfirststillhavesupplersoulsThaninourpriest-likefasts:thereforelook'dToheaven,thatpromisefortheirfather'slands.LADYGREY:Why,\n",
            "\n"
          ]
        }
      ],
      "source": [
        "if __name__ == \"__main__\":\n",
        "    # Configs\n",
        "    seq_len = 128\n",
        "    tokenize_level = \"word\"\n",
        "    batch_size = 32\n",
        "    epochs = 3\n",
        "    lr = 1e-3\n",
        "    device = \"cuda\" if torch.cuda.is_available() else \"cpu\"\n",
        "    print(\"Using device:\", device)\n",
        "\n",
        "    # Load data\n",
        "    with open(\"tinyshakespeare.txt\", \"r\", encoding=\"utf-8\") as f:\n",
        "        raw_text = f.read()\n",
        "\n",
        "    tokens = tokenize(raw_text, tokenize_level)\n",
        "    vocab = build_vocab(tokens)\n",
        "    dataset = TextDataset(tokens, vocab, seq_len=seq_len)\n",
        "\n",
        "    # Split 80/10/10\n",
        "    n = len(dataset)\n",
        "    train_size = int(0.8 * n)\n",
        "    val_size = int(0.1 * n)\n",
        "    test_size = n - train_size - val_size\n",
        "    train_ds, val_ds, test_ds = torch.utils.data.random_split(dataset, [train_size, val_size, test_size])\n",
        "\n",
        "    train_loader = DataLoader(train_ds, batch_size=batch_size, shuffle=True)\n",
        "    val_loader = DataLoader(val_ds, batch_size=batch_size)\n",
        "    test_loader = DataLoader(test_ds, batch_size=batch_size)\n",
        "\n",
        "    # Model, loss, optimizer\n",
        "    model = RNNModel(len(vocab), embed_size=128, hidden_size=256,\n",
        "                     num_layers=2, dropout=0.0)\n",
        "    criterion = nn.CrossEntropyLoss()\n",
        "    optimizer = torch.optim.Adam(model.parameters(), lr=lr)\n",
        "\n",
        "    # Train\n",
        "    train_losses, val_losses, train_time = train_model(\n",
        "        train_loader, val_loader, model, criterion, optimizer,\n",
        "        epochs=epochs, clip=1.0, device=device\n",
        "    )\n",
        "\n",
        "    # Test\n",
        "    test_loss = evaluate(model, test_loader, criterion, device)\n",
        "    print(f\"\\nTest Loss: {test_loss:.3f}, Test PPL: {math.exp(test_loss):.3f}\")\n",
        "\n",
        "    # Generate samples\n",
        "    stoi = dataset.stoi\n",
        "    itos = dataset.itos\n",
        "    for T in [0.7, 1.0, 1.3]:\n",
        "        sample = generate_text(model, seed_text=\"ROMEO:\", stoi=stoi, itos=itos,\n",
        "                               length=300, temperature=T, device=device)\n",
        "        print(f\"\\nSample (T={T}):\\n{sample}\\n\")"
      ]
    },
    {
      "cell_type": "code",
      "execution_count": 33,
      "metadata": {},
      "outputs": [
        {
          "name": "stdout",
          "output_type": "stream",
          "text": [
            "Model, vocab, and evaluation saved in C:\\Users\\valer\\Desktop\\New folder\\RNN_base\n"
          ]
        },
        {
          "data": {
            "image/png": "[encoded data removed]",
            "text/plain": [
              "<Figure size 800x500 with 1 Axes>"
            ]
          },
          "metadata": {},
          "output_type": "display_data"
        }
      ],
      "source": [
        "import torch\n",
        "import os\n",
        "import math\n",
        "import json\n",
        "\n",
        "# Save everything\n",
        "out_dir = r\"C:\\Users\\valer\\Desktop\\New folder\\RNN_base\"\n",
        "os.makedirs(out_dir, exist_ok=True)\n",
        "\n",
        "# Save model weights\n",
        "torch.save(model.state_dict(), os.path.join(out_dir, \"rnn_model_dropout.pt\"))\n",
        "\n",
        "# Save vocab\n",
        "torch.save({\"stoi\": dataset.stoi, \"itos\": dataset.itos}, os.path.join(out_dir, \"vocab_dropout.pt\"))\n",
        "\n",
        "# Save evaluation results\n",
        "results = {\n",
        "    \"train_losses\": train_losses,\n",
        "    \"val_losses\": val_losses,\n",
        "    \"train_time_sec\": train_time,\n",
        "    \"test_loss\": test_loss,\n",
        "    \"test_perplexity\": math.exp(test_loss),\n",
        "}\n",
        "with open(os.path.join(out_dir, \"evaluation_dropout.json\"), \"w\") as f:\n",
        "    json.dump(results, f, indent=4)\n",
        "\n",
        "print(f\"Model, vocab, and evaluation saved in {out_dir}\")\n",
        "\n",
        "# Load evaluation results\n",
        "with open(r\"C:\\Users\\valer\\Desktop\\New folder\\RNN_base\\evaluation_dropout.json\", \"r\") as f:\n",
        "    results = json.load(f)\n",
        "\n",
        "train_losses = results[\"train_losses\"]\n",
        "val_losses = results[\"val_losses\"]\n",
        "\n",
        "# Plot training vs validation loss\n",
        "plt.figure(figsize=(8,5))\n",
        "plt.plot(range(1, len(train_losses)+1), train_losses, label=\"Train Loss\", marker=\"o\")\n",
        "plt.plot(range(1, len(val_losses)+1), val_losses, label=\"Validation Loss\", marker=\"s\")\n",
        "plt.xlabel(\"Epochs\")\n",
        "plt.ylabel(\"Cross-Entropy Loss\")\n",
        "plt.title(\"Training vs Validation Loss\")\n",
        "plt.legend()\n",
        "plt.grid(True)\n",
        "plt.savefig(r\"C:\\Users\\valer\\Desktop\\New folder\\RNN_base\\loss_curve_dropout.png\")\n",
        "plt.show()\n"
      ]
    },
    {
      "cell_type": "markdown",
      "metadata": {},
      "source": [
        "### Main runner Character Tokenization"
      ]
    },
    {
      "cell_type": "code",
      "execution_count": 34,
      "metadata": {},
      "outputs": [
        {
          "name": "stdout",
          "output_type": "stream",
          "text": [
            "Using device: cpu\n"
          ]
        },
        {
          "name": "stderr",
          "output_type": "stream",
          "text": [
            "Epoch 1: 100%|██████████| 27879/27879 [41:38<00:00, 11.16it/s]\n"
          ]
        },
        {
          "name": "stdout",
          "output_type": "stream",
          "text": [
            "Epoch 1: Train Loss 1.344, Val Loss 1.230, Val PPL 3.420\n"
          ]
        },
        {
          "name": "stderr",
          "output_type": "stream",
          "text": [
            "Epoch 2: 100%|██████████| 27879/27879 [43:16<00:00, 10.74it/s]\n"
          ]
        },
        {
          "name": "stdout",
          "output_type": "stream",
          "text": [
            "Epoch 2: Train Loss 1.293, Val Loss 1.222, Val PPL 3.393\n"
          ]
        },
        {
          "name": "stderr",
          "output_type": "stream",
          "text": [
            "Epoch 3: 100%|██████████| 27879/27879 [46:15<00:00, 10.04it/s]\n"
          ]
        },
        {
          "name": "stdout",
          "output_type": "stream",
          "text": [
            "Epoch 3: Train Loss 1.287, Val Loss 1.218, Val PPL 3.380\n",
            "\n",
            "Training finished in 8190.85 seconds\n",
            "\n",
            "Test Loss: 1.218, Test PPL: 3.379\n",
            "\n",
            "Sample (T=0.7):\n",
            "ROMEO:\n",
            "I can fall\n",
            "With that I return to be frail the dead friends,\n",
            "Should not have most warm on me by your complexion is here?\n",
            "\n",
            "Second Keeper:\n",
            "Sir, my lord,\n",
            "And hence accused to my life,\n",
            "And death is lack, in this earth.\n",
            "\n",
            "First Murderer:\n",
            "Why, Kate, behold him more than I have allier,\n",
            "To say your remembran\n",
            "\n",
            "\n",
            "Sample (T=1.0):\n",
            "ROMEO:\n",
            "Unfection of Glouce, for she was 'manine this support no rest,' the title before you, Camillo that sendry securer\n",
            "Thy blessed orderers.\n",
            "\n",
            "AUFIDIUS:\n",
            "Amiss you, lords: for thy mercy and one statue, and with the clouds of so; like born.\n",
            "All I prove cannot speak not doth swear, hear again of Hornous sev\n",
            "\n",
            "\n",
            "Sample (T=1.3):\n",
            "ROMEO:\n",
            "First, wounds shew, as ahterwain.\n",
            "Procirot, if I do's thought sweet, Pothine cubbours, forbear him, go wiutchills\n",
            "That Herries in lion court's dust removed to creatures:\n",
            "If he have close specience.\n",
            "\n",
            "CATESBY:\n",
            "What cay?\n",
            "Sweet: you knew do not,\n",
            "That oflemery porty Montague.\n",
            "Or do not Nent that coal,\n",
            "A\n",
            "\n"
          ]
        }
      ],
      "source": [
        "if __name__ == \"__main__\":\n",
        "    # Configs\n",
        "    seq_len = 256               \n",
        "    tokenize_level = \"char\"      \n",
        "    batch_size = 32\n",
        "    epochs = 3\n",
        "    lr = 1e-3\n",
        "    device = \"cuda\" if torch.cuda.is_available() else \"cpu\"\n",
        "    print(\"Using device:\", device)\n",
        "\n",
        "    # Load data\n",
        "    with open(\"tinyshakespeare.txt\", \"r\", encoding=\"utf-8\") as f:\n",
        "        raw_text = f.read()\n",
        "\n",
        "    tokens = tokenize(raw_text, tokenize_level)   \n",
        "    vocab = build_vocab(tokens)\n",
        "    dataset = TextDataset(tokens, vocab, seq_len=seq_len)\n",
        "\n",
        "    # Split 80/10/10\n",
        "    n = len(dataset)\n",
        "    train_size = int(0.8 * n)\n",
        "    val_size = int(0.1 * n)\n",
        "    test_size = n - train_size - val_size\n",
        "    train_ds, val_ds, test_ds = torch.utils.data.random_split(dataset, [train_size, val_size, test_size])\n",
        "\n",
        "    train_loader = DataLoader(train_ds, batch_size=batch_size, shuffle=True)\n",
        "    val_loader = DataLoader(val_ds, batch_size=batch_size)\n",
        "    test_loader = DataLoader(test_ds, batch_size=batch_size)\n",
        "\n",
        "    # Model, loss, optimizer\n",
        "    model = RNNModel(len(vocab), embed_size=128, hidden_size=256,\n",
        "                     num_layers=2, dropout=0.2)\n",
        "    criterion = nn.CrossEntropyLoss()\n",
        "    optimizer = torch.optim.Adam(model.parameters(), lr=lr)\n",
        "\n",
        "    # Train\n",
        "    train_losses, val_losses, train_time = train_model(\n",
        "        train_loader, val_loader, model, criterion, optimizer,\n",
        "        epochs=epochs, clip=1.0, device=device\n",
        "    )\n",
        "\n",
        "    # Test\n",
        "    test_loss = evaluate(model, test_loader, criterion, device)\n",
        "    print(f\"\\nTest Loss: {test_loss:.3f}, Test PPL: {math.exp(test_loss):.3f}\")\n",
        "\n",
        "    # Generate samples\n",
        "    stoi = dataset.stoi\n",
        "    itos = dataset.itos\n",
        "    for T in [0.7, 1.0, 1.3]:\n",
        "        sample = generate_text(model, seed_text=\"ROMEO:\", stoi=stoi, itos=itos,\n",
        "                               length=300, temperature=T, device=device)\n",
        "        print(f\"\\nSample (T={T}):\\n{sample}\\n\")\n"
      ]
    },
    {
      "cell_type": "code",
      "execution_count": 35,
      "metadata": {},
      "outputs": [
        {
          "name": "stdout",
          "output_type": "stream",
          "text": [
            "Model, vocab, and evaluation saved in C:\\Users\\valer\\Desktop\\New folder\\RNN_base\n"
          ]
        },
        {
          "data": {
            "image/png": "[encoded data removed]",
            "text/plain": [
              "<Figure size 800x500 with 1 Axes>"
            ]
          },
          "metadata": {},
          "output_type": "display_data"
        }
      ],
      "source": [
        "import torch\n",
        "import os\n",
        "import math\n",
        "import json\n",
        "\n",
        "# Save everything\n",
        "out_dir = r\"C:\\Users\\valer\\Desktop\\New folder\\RNN_base\"\n",
        "os.makedirs(out_dir, exist_ok=True)\n",
        "\n",
        "# Save model weights\n",
        "torch.save(model.state_dict(), os.path.join(out_dir, \"rnn_model_char.pt\"))\n",
        "\n",
        "# Save vocab\n",
        "torch.save({\"stoi\": dataset.stoi, \"itos\": dataset.itos}, os.path.join(out_dir, \"vocab_char.pt\"))\n",
        "\n",
        "# Save evaluation results\n",
        "results = {\n",
        "    \"train_losses\": train_losses,\n",
        "    \"val_losses\": val_losses,\n",
        "    \"train_time_sec\": train_time,\n",
        "    \"test_loss\": test_loss,\n",
        "    \"test_perplexity\": math.exp(test_loss),\n",
        "}\n",
        "with open(os.path.join(out_dir, \"evaluation_char.json\"), \"w\") as f:\n",
        "    json.dump(results, f, indent=4)\n",
        "\n",
        "print(f\"Model, vocab, and evaluation saved in {out_dir}\")\n",
        "\n",
        "# Load evaluation results\n",
        "with open(r\"C:\\Users\\valer\\Desktop\\New folder\\RNN_base\\evaluation_char.json\", \"r\") as f:\n",
        "    results = json.load(f)\n",
        "\n",
        "train_losses = results[\"train_losses\"]\n",
        "val_losses = results[\"val_losses\"]\n",
        "\n",
        "# Plot training vs validation loss\n",
        "plt.figure(figsize=(8,5))\n",
        "plt.plot(range(1, len(train_losses)+1), train_losses, label=\"Train Loss\", marker=\"o\")\n",
        "plt.plot(range(1, len(val_losses)+1), val_losses, label=\"Validation Loss\", marker=\"s\")\n",
        "plt.xlabel(\"Epochs\")\n",
        "plt.ylabel(\"Cross-Entropy Loss\")\n",
        "plt.title(\"Training vs Validation Loss\")\n",
        "plt.legend()\n",
        "plt.grid(True)\n",
        "plt.savefig(r\"C:\\Users\\valer\\Desktop\\New folder\\RNN_base\\loss_curve_char.png\")\n",
        "plt.show()\n"
      ]
    },
    {
      "cell_type": "markdown",
      "metadata": {},
      "source": [
        "### Load data"
      ]
    },
    {
      "cell_type": "code",
      "execution_count": 5,
      "metadata": {},
      "outputs": [
        {
          "name": "stdout",
          "output_type": "stream",
          "text": [
            "Dataset size: 1115394 characters\n",
            "Vocabulary size: 65\n"
          ]
        }
      ],
      "source": [
        "url = \"https://raw.githubusercontent.com/karpathy/char-rnn/master/data/tinyshakespeare/input.txt\"\n",
        "response = requests.get(url)\n",
        "with open(\"tinyshakespeare.txt\", \"w\", encoding=\"utf-8\") as f:\n",
        "    f.write(response.text)\n",
        "\n",
        "with open(\"tinyshakespeare.txt\", \"r\", encoding=\"utf-8\") as f:\n",
        "    text = f.read()\n",
        "\n",
        "# Char-level tokenization\n",
        "tokens = list(text)\n",
        "vocab = sorted(set(tokens))\n",
        "vocab_size = len(vocab)\n",
        "\n",
        "stoi = {ch: i for i, ch in enumerate(vocab)}\n",
        "itos = {i: ch for ch, i in stoi.items()}\n",
        "data = [stoi[ch] for ch in tokens]\n",
        "\n",
        "print(f\"Dataset size: {len(data)} characters\")\n",
        "print(f\"Vocabulary size: {vocab_size}\")"
      ]
    },
    {
      "cell_type": "markdown",
      "metadata": {},
      "source": [
        "### Dataset Preparation"
      ]
    },
    {
      "cell_type": "code",
      "execution_count": 6,
      "metadata": {},
      "outputs": [],
      "source": [
        "class TextDataset(Dataset):\n",
        "    def __init__(self, data, seq_len):\n",
        "        self.data = data\n",
        "        self.seq_len = seq_len\n",
        "\n",
        "    def __len__(self):\n",
        "        return len(self.data) - self.seq_len\n",
        "\n",
        "    def __getitem__(self, idx):\n",
        "        x = torch.tensor(self.data[idx:idx+self.seq_len], dtype=torch.long)\n",
        "        y = torch.tensor(self.data[idx+1:idx+self.seq_len+1], dtype=torch.long)\n",
        "        return x, y\n"
      ]
    },
    {
      "cell_type": "markdown",
      "metadata": {},
      "source": [
        "### Build LSTM Model"
      ]
    },
    {
      "cell_type": "code",
      "execution_count": 7,
      "metadata": {},
      "outputs": [],
      "source": [
        "class LSTMLanguageModel(nn.Module):\n",
        "    def __init__(self, vocab_size, embed_size, hidden_size, num_layers, dropout):\n",
        "        super().__init__()\n",
        "        self.embedding = nn.Embedding(vocab_size, embed_size)\n",
        "        self.lstm = nn.LSTM(embed_size, hidden_size, num_layers,\n",
        "                            batch_first=True, dropout=dropout)\n",
        "        self.fc = nn.Linear(hidden_size, vocab_size)\n",
        "\n",
        "    def forward(self, x, hidden=None):\n",
        "        x = self.embedding(x)\n",
        "        out, hidden = self.lstm(x, hidden)\n",
        "        out = self.fc(out)\n",
        "        return out, hidden"
      ]
    },
    {
      "cell_type": "markdown",
      "metadata": {},
      "source": [
        "### Evaluation function"
      ]
    },
    {
      "cell_type": "code",
      "execution_count": 8,
      "metadata": {},
      "outputs": [],
      "source": [
        "def evaluate(model, loader, criterion, device):\n",
        "    model.eval()\n",
        "    total_loss = 0\n",
        "    with torch.no_grad():\n",
        "        for x, y in loader:\n",
        "            x, y = x.to(device), y.to(device)\n",
        "            out, _ = model(x)\n",
        "            loss = criterion(out.view(-1, out.size(-1)), y.view(-1))\n",
        "            total_loss += loss.item()\n",
        "    return total_loss / len(loader)"
      ]
    },
    {
      "cell_type": "markdown",
      "metadata": {},
      "source": [
        "### Training"
      ]
    },
    {
      "cell_type": "code",
      "execution_count": 9,
      "metadata": {},
      "outputs": [],
      "source": [
        "def train_model(model, train_loader, val_loader, criterion, optimizer, epochs, device, clip=1.0):\n",
        "    train_losses, val_losses = [], []\n",
        "    for epoch in range(1, epochs+1):\n",
        "        model.train()\n",
        "        total_loss = 0\n",
        "        progress = tqdm(train_loader, desc=f\"Epoch {epoch}/{epochs}\")\n",
        "        for x, y in progress:\n",
        "            x, y = x.to(device), y.to(device)\n",
        "            optimizer.zero_grad()\n",
        "            out, _ = model(x)\n",
        "            loss = criterion(out.view(-1, out.size(-1)), y.view(-1))\n",
        "            loss.backward()\n",
        "            nn.utils.clip_grad_norm_(model.parameters(), clip)\n",
        "            optimizer.step()\n",
        "            total_loss += loss.item()\n",
        "            progress.set_postfix(loss=loss.item())\n",
        "\n",
        "        avg_train_loss = total_loss / len(train_loader)\n",
        "        avg_val_loss = evaluate(model, val_loader, criterion, device)\n",
        "        train_losses.append(avg_train_loss)\n",
        "        val_losses.append(avg_val_loss)\n",
        "\n",
        "        print(f\"Epoch {epoch}: Train Loss={avg_train_loss:.3f}, \"\n",
        "              f\"Val Loss={avg_val_loss:.3f}, Val PPL={math.exp(avg_val_loss):.3f}\")\n",
        "\n",
        "    return train_losses, val_losses"
      ]
    },
    {
      "cell_type": "markdown",
      "metadata": {},
      "source": [
        "### Main runner"
      ]
    },
    {
      "cell_type": "code",
      "execution_count": null,
      "metadata": {},
      "outputs": [
        {
          "name": "stdout",
          "output_type": "stream",
          "text": [
            "Using device: cpu\n"
          ]
        },
        {
          "name": "stderr",
          "output_type": "stream",
          "text": [
            "Epoch 1/3: 100%|██████████| 27882/27882 [45:26<00:00, 10.23it/s, loss=1.1] \n"
          ]
        },
        {
          "name": "stdout",
          "output_type": "stream",
          "text": [
            "Epoch 1: Train Loss=1.215, Val Loss=1.011, Val PPL=2.749\n"
          ]
        },
        {
          "name": "stderr",
          "output_type": "stream",
          "text": [
            "Epoch 2/3: 100%|██████████| 27882/27882 [31:38<00:00, 14.69it/s, loss=1.05] \n"
          ]
        },
        {
          "name": "stdout",
          "output_type": "stream",
          "text": [
            "Epoch 2: Train Loss=1.067, Val Loss=0.948, Val PPL=2.582\n"
          ]
        },
        {
          "name": "stderr",
          "output_type": "stream",
          "text": [
            "Epoch 3/3: 100%|██████████| 27882/27882 [31:21<00:00, 14.82it/s, loss=1.01] \n"
          ]
        },
        {
          "name": "stdout",
          "output_type": "stream",
          "text": [
            "Epoch 3: Train Loss=1.037, Val Loss=0.919, Val PPL=2.507\n",
            "\n",
            "Final Test Loss: 0.919, Test PPL: 2.508\n"
          ]
        },
        {
          "ename": "NameError",
          "evalue": "name 'os' is not defined",
          "output_type": "error",
          "traceback": [
            "\u001b[1;31m---------------------------------------------------------------------------\u001b[0m",
            "\u001b[1;31mNameError\u001b[0m                                 Traceback (most recent call last)",
            "Cell \u001b[1;32mIn[10], line 39\u001b[0m\n\u001b[0;32m     37\u001b[0m \u001b[38;5;66;03m# Save everything\u001b[39;00m\n\u001b[0;32m     38\u001b[0m out_dir \u001b[38;5;241m=\u001b[39m \u001b[38;5;124mr\u001b[39m\u001b[38;5;124m\"\u001b[39m\u001b[38;5;124mC:\u001b[39m\u001b[38;5;124m\\\u001b[39m\u001b[38;5;124mUsers\u001b[39m\u001b[38;5;124m\\\u001b[39m\u001b[38;5;124mvaler\u001b[39m\u001b[38;5;124m\\\u001b[39m\u001b[38;5;124mDesktop\u001b[39m\u001b[38;5;124m\\\u001b[39m\u001b[38;5;124mNew folder\u001b[39m\u001b[38;5;124m\\\u001b[39m\u001b[38;5;124mLSTM_shakespeare\u001b[39m\u001b[38;5;124m\"\u001b[39m\n\u001b[1;32m---> 39\u001b[0m \u001b[43mos\u001b[49m\u001b[38;5;241m.\u001b[39mmakedirs(out_dir, exist_ok\u001b[38;5;241m=\u001b[39m\u001b[38;5;28;01mTrue\u001b[39;00m)\n\u001b[0;32m     41\u001b[0m torch\u001b[38;5;241m.\u001b[39msave(model\u001b[38;5;241m.\u001b[39mstate_dict(), os\u001b[38;5;241m.\u001b[39mpath\u001b[38;5;241m.\u001b[39mjoin(out_dir, \u001b[38;5;124m\"\u001b[39m\u001b[38;5;124mlstm_model.pt\u001b[39m\u001b[38;5;124m\"\u001b[39m))\n\u001b[0;32m     42\u001b[0m torch\u001b[38;5;241m.\u001b[39msave({\u001b[38;5;124m\"\u001b[39m\u001b[38;5;124mstoi\u001b[39m\u001b[38;5;124m\"\u001b[39m: stoi, \u001b[38;5;124m\"\u001b[39m\u001b[38;5;124mitos\u001b[39m\u001b[38;5;124m\"\u001b[39m: itos}, os\u001b[38;5;241m.\u001b[39mpath\u001b[38;5;241m.\u001b[39mjoin(out_dir, \u001b[38;5;124m\"\u001b[39m\u001b[38;5;124mvocab.pt\u001b[39m\u001b[38;5;124m\"\u001b[39m))\n",
            "\u001b[1;31mNameError\u001b[0m: name 'os' is not defined"
          ]
        }
      ],
      "source": [
        "if __name__ == \"__main__\":\n",
        "    seq_len = 128\n",
        "    batch_size = 32\n",
        "    embed_size = 128\n",
        "    hidden_size = 256\n",
        "    num_layers = 2\n",
        "    dropout = 0.2\n",
        "    lr = 1e-3\n",
        "    epochs = 3\n",
        "    device = \"cuda\" if torch.cuda.is_available() else \"cpu\"\n",
        "    print(\"Using device:\", device)\n",
        "\n",
        "    dataset = TextDataset(data, seq_len)\n",
        "\n",
        "    # 80/10/10 split\n",
        "    n = len(dataset)\n",
        "    train_size = int(0.8 * n)\n",
        "    val_size = int(0.1 * n)\n",
        "    test_size = n - train_size - val_size\n",
        "    train_ds, val_ds, test_ds = torch.utils.data.random_split(dataset, [train_size, val_size, test_size])\n",
        "\n",
        "    train_loader = DataLoader(train_ds, batch_size=batch_size, shuffle=True)\n",
        "    val_loader = DataLoader(val_ds, batch_size=batch_size)\n",
        "    test_loader = DataLoader(test_ds, batch_size=batch_size)\n",
        "\n",
        "    model = LSTMLanguageModel(vocab_size, embed_size, hidden_size, num_layers, dropout).to(device)\n",
        "    criterion = nn.CrossEntropyLoss()\n",
        "    optimizer = torch.optim.Adam(model.parameters(), lr=lr)\n",
        "\n",
        "    train_losses, val_losses = train_model(model, train_loader, val_loader,\n",
        "                                           criterion, optimizer, epochs, device)\n",
        "\n",
        "    # Test set evaluation\n",
        "    test_loss = evaluate(model, test_loader, criterion, device)\n",
        "    print(f\"\\nFinal Test Loss: {test_loss:.3f}, Test PPL: {math.exp(test_loss):.3f}\")\n",
        "\n"
      ]
    },
    {
      "cell_type": "code",
      "execution_count": 14,
      "metadata": {},
      "outputs": [
        {
          "data": {
            "image/png": "[encoded data removed]",
            "text/plain": [
              "<Figure size 800x500 with 1 Axes>"
            ]
          },
          "metadata": {},
          "output_type": "display_data"
        }
      ],
      "source": [
        "import os  \n",
        "import json\n",
        " # Save everything\n",
        "out_dir = r\"C:\\Users\\valer\\Desktop\\New folder\\LSTM_shakespeare\"\n",
        "os.makedirs(out_dir, exist_ok=True)\n",
        "\n",
        "torch.save(model.state_dict(), os.path.join(out_dir, \"lstm_model.pt\"))\n",
        "torch.save({\"stoi\": stoi, \"itos\": itos}, os.path.join(out_dir, \"vocab.pt\"))\n",
        "\n",
        "results = {\n",
        "        \"train_losses\": train_losses,\n",
        "        \"val_losses\": val_losses,\n",
        "        \"test_loss\": test_loss,\n",
        "        \"test_perplexity\": math.exp(test_loss)\n",
        "    }\n",
        "with open(os.path.join(out_dir, \"evaluation.json\"), \"w\") as f:\n",
        "        json.dump(results, f, indent=4)\n",
        "\n",
        " # Plot Training vs Validation Loss\n",
        "plt.figure(figsize=(8,5))\n",
        "plt.plot(range(1, len(train_losses)+1), train_losses, label=\"Train Loss\", marker=\"o\")\n",
        "plt.plot(range(1, len(val_losses)+1), val_losses, label=\"Validation Loss\", marker=\"s\")\n",
        "plt.xlabel(\"Epochs\")\n",
        "plt.ylabel(\"Cross-Entropy Loss\")\n",
        "plt.title(\"Training vs Validation Loss (Tiny Shakespeare)\")\n",
        "plt.legend()\n",
        "plt.grid(True)\n",
        "plt.savefig(os.path.join(out_dir, \"loss_curve.png\"))\n",
        "plt.show()"
      ]
    },
    {
      "cell_type": "code",
      "execution_count": 22,
      "metadata": {},
      "outputs": [
        {
          "name": "stderr",
          "output_type": "stream",
          "text": [
            "C:\\Users\\valer\\AppData\\Local\\Temp\\ipykernel_20388\\1000235112.py:25: FutureWarning: You are using `torch.load` with `weights_only=False` (the current default value), which uses the default pickle module implicitly. It is possible to construct malicious pickle data which will execute arbitrary code during unpickling (See https://github.com/pytorch/pytorch/blob/main/SECURITY.md#untrusted-models for more details). In a future release, the default value for `weights_only` will be flipped to `True`. This limits the functions that could be executed during unpickling. Arbitrary objects will no longer be allowed to be loaded via this mode unless they are explicitly allowlisted by the user via `torch.serialization.add_safe_globals`. We recommend you start setting `weights_only=True` for any use case where you don't have full control of the loaded file. Please open an issue on GitHub for any issues related to this experimental feature.\n",
            "  vocab_data = torch.load(os.path.join(out_dir, \"vocab_char.pt\"))\n",
            "C:\\Users\\valer\\AppData\\Local\\Temp\\ipykernel_20388\\1000235112.py:38: FutureWarning: You are using `torch.load` with `weights_only=False` (the current default value), which uses the default pickle module implicitly. It is possible to construct malicious pickle data which will execute arbitrary code during unpickling (See https://github.com/pytorch/pytorch/blob/main/SECURITY.md#untrusted-models for more details). In a future release, the default value for `weights_only` will be flipped to `True`. This limits the functions that could be executed during unpickling. Arbitrary objects will no longer be allowed to be loaded via this mode unless they are explicitly allowlisted by the user via `torch.serialization.add_safe_globals`. We recommend you start setting `weights_only=True` for any use case where you don't have full control of the loaded file. Please open an issue on GitHub for any issues related to this experimental feature.\n",
            "  model.load_state_dict(torch.load(os.path.join(out_dir, \"lstm_model_char.pt\"), map_location=device))\n"
          ]
        },
        {
          "name": "stdout",
          "output_type": "stream",
          "text": [
            "✅ Loaded saved LSTM model and vocab\n",
            "\n",
            "--- Sample (T=0.7) ---\n",
            "ROMEO:\n",
            "\n",
            "ANGELO:\n",
            "Pardon, peace!\n",
            "To see the people.\n",
            "\n",
            "SICINIUS:\n",
            "The rag is not a friend.\n",
            "\n",
            "CLAUDIO:\n",
            "Thus is this man, whom I may be hard from a devil\n",
            "With builds that thought on thee.\n",
            "\n",
            "AUTOLYCUS:\n",
            "A shall buy that this contempled with the readiest\n",
            "a stars and what is short. Would he shall be the\n",
            "counterfeit of\n",
            "\n",
            "\n",
            "--- Sample (T=1.0) ---\n",
            "ROMEO:\n",
            "That's so qualified. Where's Romeo's rather, to you?\n",
            "What father are these? are thy tongue?\n",
            "\n",
            "BUCKINGHAM:\n",
            "My lord, that my wife is spirt.\n",
            "\n",
            "HENRY BOLINGBROKE:\n",
            "Best falls, that I may be gone to woo my own.\n",
            "\n",
            "ISABELLA:\n",
            "You were no simple comfort thread you!\n",
            "\n",
            "MENENIUS:\n",
            "It is the morniness of another.\n",
            "\n",
            "VO\n",
            "\n",
            "\n",
            "--- Sample (T=1.3) ---\n",
            "ROMEO:\n",
            "I have a jest a divine; for they--natural,\n",
            "with best haste. Nay, no, go me: he's dead, and rise\n",
            "To say, Tybalt.\n",
            "\n",
            "KATHARINA:\n",
            "Hold, withinded at Bifeso? wherefore weeps he?\n",
            "Go, bear! thou diest to him! Help my dark past,\n",
            "And most King for sweetness.\n",
            "\n",
            "MIRANDA:\n",
            "O, you fail's basit, brave for him;\n",
            "Will \n",
            "\n"
          ]
        }
      ],
      "source": [
        "import torch\n",
        "import torch.nn as nn\n",
        "import torch.nn.functional as F\n",
        "import os\n",
        "\n",
        "# === 1. Define Model Class (must match training) ===\n",
        "class LSTMLanguageModel(nn.Module):\n",
        "    def __init__(self, vocab_size, embed_size, hidden_size, num_layers, dropout):\n",
        "        super().__init__()\n",
        "        self.embedding = nn.Embedding(vocab_size, embed_size)\n",
        "        self.lstm = nn.LSTM(embed_size, hidden_size, num_layers,\n",
        "                            batch_first=True, dropout=dropout)\n",
        "        self.fc = nn.Linear(hidden_size, vocab_size)\n",
        "\n",
        "    def forward(self, x, hidden=None):\n",
        "        x = self.embedding(x)\n",
        "        out, hidden = self.lstm(x, hidden)\n",
        "        out = self.fc(out)\n",
        "        return out, hidden\n",
        "\n",
        "# === 2. Load Model & Vocab ===\n",
        "out_dir = r\"C:\\Users\\valer\\Desktop\\New folder\\LSTM_shakespeare\"\n",
        "\n",
        "# Load vocab\n",
        "vocab_data = torch.load(os.path.join(out_dir, \"vocab_char.pt\"))\n",
        "stoi, itos = vocab_data[\"stoi\"], vocab_data[\"itos\"]\n",
        "vocab_size = len(stoi)\n",
        "\n",
        "# Model config (must match training)\n",
        "embed_size = 128\n",
        "hidden_size = 256\n",
        "num_layers = 2\n",
        "dropout = 0.2\n",
        "device = \"cuda\" if torch.cuda.is_available() else \"cpu\"\n",
        "\n",
        "# Rebuild model and load weights\n",
        "model = LSTMLanguageModel(vocab_size, embed_size, hidden_size, num_layers, dropout).to(device)\n",
        "model.load_state_dict(torch.load(os.path.join(out_dir, \"lstm_model_char.pt\"), map_location=device))\n",
        "model.eval()\n",
        "\n",
        "print(\"✅ Loaded saved LSTM model and vocab\")\n",
        "\n",
        "# === 3. Text Generation Function ===\n",
        "def generate_text(model, start_text, stoi, itos, length=300, temperature=1.0, device=\"cpu\"):\n",
        "    model.eval()\n",
        "    input_ids = torch.tensor([stoi[ch] for ch in start_text], dtype=torch.long).unsqueeze(0).to(device)\n",
        "    generated = list(start_text)\n",
        "    hidden = None\n",
        "\n",
        "    with torch.no_grad():\n",
        "        for _ in range(length):\n",
        "            output, hidden = model(input_ids, hidden)\n",
        "            logits = output[:, -1, :] / temperature\n",
        "            probs = F.softmax(logits, dim=-1)\n",
        "            next_id = torch.multinomial(probs, num_samples=1).item()\n",
        "            next_char = itos[next_id]\n",
        "            generated.append(next_char)\n",
        "            input_ids = torch.tensor([[next_id]], dtype=torch.long).to(device)\n",
        "\n",
        "    return ''.join(generated)\n",
        "\n",
        "# === 4. Generate Samples from Saved Model ===\n",
        "for T in [0.7, 1.0, 1.3]:\n",
        "    sample = generate_text(model, start_text=\"ROMEO:\", stoi=stoi, itos=itos,\n",
        "                           length=300, temperature=T, device=device)\n",
        "    print(f\"\\n--- Sample (T={T}) ---\\n{sample}\\n\")\n"
      ]
    },
    {
      "cell_type": "markdown",
      "metadata": {},
      "source": [
        "### Main runner dropout 0.0"
      ]
    },
    {
      "cell_type": "code",
      "execution_count": 15,
      "metadata": {},
      "outputs": [
        {
          "name": "stdout",
          "output_type": "stream",
          "text": [
            "Using device: cpu\n"
          ]
        },
        {
          "name": "stderr",
          "output_type": "stream",
          "text": [
            "Epoch 1/3: 100%|██████████| 27882/27882 [30:19<00:00, 15.32it/s, loss=0.808]\n"
          ]
        },
        {
          "name": "stdout",
          "output_type": "stream",
          "text": [
            "Epoch 1: Train Loss=1.037, Val Loss=0.799, Val PPL=2.222\n"
          ]
        },
        {
          "name": "stderr",
          "output_type": "stream",
          "text": [
            "Epoch 2/3: 100%|██████████| 27882/27882 [31:02<00:00, 14.97it/s, loss=0.679]\n"
          ]
        },
        {
          "name": "stdout",
          "output_type": "stream",
          "text": [
            "Epoch 2: Train Loss=0.721, Val Loss=0.673, Val PPL=1.961\n"
          ]
        },
        {
          "name": "stderr",
          "output_type": "stream",
          "text": [
            "Epoch 3/3: 100%|██████████| 27882/27882 [31:04<00:00, 14.95it/s, loss=0.631]\n"
          ]
        },
        {
          "name": "stdout",
          "output_type": "stream",
          "text": [
            "Epoch 3: Train Loss=0.648, Val Loss=0.630, Val PPL=1.877\n",
            "\n",
            "Final Test Loss: 0.629, Test PPL: 1.876\n"
          ]
        }
      ],
      "source": [
        "if __name__ == \"__main__\":\n",
        "    seq_len = 128\n",
        "    batch_size = 32\n",
        "    embed_size = 128\n",
        "    hidden_size = 256\n",
        "    num_layers = 2\n",
        "    dropout = 0.0\n",
        "    lr = 1e-3\n",
        "    epochs = 3\n",
        "    device = \"cuda\" if torch.cuda.is_available() else \"cpu\"\n",
        "    print(\"Using device:\", device)\n",
        "\n",
        "    dataset = TextDataset(data, seq_len)\n",
        "\n",
        "    # 80/10/10 split\n",
        "    n = len(dataset)\n",
        "    train_size = int(0.8 * n)\n",
        "    val_size = int(0.1 * n)\n",
        "    test_size = n - train_size - val_size\n",
        "    train_ds, val_ds, test_ds = torch.utils.data.random_split(dataset, [train_size, val_size, test_size])\n",
        "\n",
        "    train_loader = DataLoader(train_ds, batch_size=batch_size, shuffle=True)\n",
        "    val_loader = DataLoader(val_ds, batch_size=batch_size)\n",
        "    test_loader = DataLoader(test_ds, batch_size=batch_size)\n",
        "\n",
        "    model = LSTMLanguageModel(vocab_size, embed_size, hidden_size, num_layers, dropout).to(device)\n",
        "    criterion = nn.CrossEntropyLoss()\n",
        "    optimizer = torch.optim.Adam(model.parameters(), lr=lr)\n",
        "\n",
        "    train_losses, val_losses = train_model(model, train_loader, val_loader,\n",
        "                                           criterion, optimizer, epochs, device)\n",
        "\n",
        "    # Test set evaluation\n",
        "    test_loss = evaluate(model, test_loader, criterion, device)\n",
        "    print(f\"\\nFinal Test Loss: {test_loss:.3f}, Test PPL: {math.exp(test_loss):.3f}\")\n",
        "\n"
      ]
    },
    {
      "cell_type": "code",
      "execution_count": 17,
      "metadata": {},
      "outputs": [
        {
          "data": {
            "image/png": "[encoded data removed]",
            "text/plain": [
              "<Figure size 800x500 with 1 Axes>"
            ]
          },
          "metadata": {},
          "output_type": "display_data"
        }
      ],
      "source": [
        "import os  \n",
        "import json\n",
        " # Save everything\n",
        "out_dir = r\"C:\\Users\\valer\\Desktop\\New folder\\LSTM_shakespeare\"\n",
        "os.makedirs(out_dir, exist_ok=True)\n",
        "\n",
        "torch.save(model.state_dict(), os.path.join(out_dir, \"lstm_model_dropout.pt\"))\n",
        "torch.save({\"stoi\": stoi, \"itos\": itos}, os.path.join(out_dir, \"vocab_dropout.pt\"))\n",
        "\n",
        "results = {\n",
        "        \"train_losses\": train_losses,\n",
        "        \"val_losses\": val_losses,\n",
        "        \"test_loss\": test_loss,\n",
        "        \"test_perplexity\": math.exp(test_loss)\n",
        "    }\n",
        "with open(os.path.join(out_dir, \"evaluation_dropout.json\"), \"w\") as f:\n",
        "        json.dump(results, f, indent=4)\n",
        "\n",
        " # Plot Training vs Validation Loss\n",
        "plt.figure(figsize=(8,5))\n",
        "plt.plot(range(1, len(train_losses)+1), train_losses, label=\"Train Loss\", marker=\"o\")\n",
        "plt.plot(range(1, len(val_losses)+1), val_losses, label=\"Validation Loss\", marker=\"s\")\n",
        "plt.xlabel(\"Epochs\")\n",
        "plt.ylabel(\"Cross-Entropy Loss\")\n",
        "plt.title(\"Training vs Validation Loss (Tiny Shakespeare)\")\n",
        "plt.legend()\n",
        "plt.grid(True)\n",
        "plt.savefig(os.path.join(out_dir, \"loss_curve.png\"))\n",
        "plt.show()"
      ]
    },
    {
      "cell_type": "code",
      "execution_count": 20,
      "metadata": {},
      "outputs": [
        {
          "name": "stderr",
          "output_type": "stream",
          "text": [
            "C:\\Users\\valer\\AppData\\Local\\Temp\\ipykernel_20388\\845731915.py:29: FutureWarning: You are using `torch.load` with `weights_only=False` (the current default value), which uses the default pickle module implicitly. It is possible to construct malicious pickle data which will execute arbitrary code during unpickling (See https://github.com/pytorch/pytorch/blob/main/SECURITY.md#untrusted-models for more details). In a future release, the default value for `weights_only` will be flipped to `True`. This limits the functions that could be executed during unpickling. Arbitrary objects will no longer be allowed to be loaded via this mode unless they are explicitly allowlisted by the user via `torch.serialization.add_safe_globals`. We recommend you start setting `weights_only=True` for any use case where you don't have full control of the loaded file. Please open an issue on GitHub for any issues related to this experimental feature.\n",
            "  vocab_data = torch.load(os.path.join(out_dir, \"vocab.pt\"))\n",
            "C:\\Users\\valer\\AppData\\Local\\Temp\\ipykernel_20388\\845731915.py:42: FutureWarning: You are using `torch.load` with `weights_only=False` (the current default value), which uses the default pickle module implicitly. It is possible to construct malicious pickle data which will execute arbitrary code during unpickling (See https://github.com/pytorch/pytorch/blob/main/SECURITY.md#untrusted-models for more details). In a future release, the default value for `weights_only` will be flipped to `True`. This limits the functions that could be executed during unpickling. Arbitrary objects will no longer be allowed to be loaded via this mode unless they are explicitly allowlisted by the user via `torch.serialization.add_safe_globals`. We recommend you start setting `weights_only=True` for any use case where you don't have full control of the loaded file. Please open an issue on GitHub for any issues related to this experimental feature.\n",
            "  model.load_state_dict(torch.load(os.path.join(out_dir, \"lstm_model.pt\"), map_location=device))\n"
          ]
        },
        {
          "name": "stdout",
          "output_type": "stream",
          "text": [
            "Model and vocab loaded successfully\n",
            "\n",
            "--- Sample (T=0.7) ---\n",
            "ROMEO:\n",
            "I think 'twere but a pack of meat,\n",
            "The spires and grace and fresh steal of them;\n",
            "No usures presently, he is not there.\n",
            "Farewell, my lord, be gone.\n",
            "\n",
            "PETRUCHIO:\n",
            "Signior Baptista, is it such a humour,\n",
            "That we seem to love, and see that time let me see;\n",
            "It is a pre-onience that I have,\n",
            "Too long and her\n",
            "\n",
            "\n",
            "--- Sample (T=1.0) ---\n",
            "ROMEO:\n",
            "He hath bold and leave unto his readness,\n",
            "Sejussed upon this hand: wherefore was my husband?\n",
            "Or, away! dampare with haste you did I.\n",
            "No, no! why, no shape is after behelves;\n",
            "A vengean-wives, which is a sensible:\n",
            "I do resemble it, and not the sea\n",
            "For covert with a cale temples of those\n",
            "So cursed by \n",
            "\n",
            "\n",
            "--- Sample (T=1.3) ---\n",
            "ROMEO:\n",
            "Yes, something shall; say you, wit is dead?\n",
            "\n",
            "Second Murderer:\n",
            "Where is so ballain?\n",
            "\n",
            "Pursuing:\n",
            "Sir, heep forsworn, wise.\n",
            "\n",
            "BIANCA:\n",
            "If your grandat presently?\n",
            "Good madam, favour, adieu! for meaner tashes,\n",
            "Parcel whose blaceming years since the worsw\n",
            "And Hereford slay, that they wither'd buds, Nememy.\n",
            "\n",
            "\n"
          ]
        }
      ],
      "source": [
        "import torch\n",
        "import torch.nn as nn\n",
        "import torch.nn.functional as F\n",
        "import os\n",
        "import json\n",
        "\n",
        "# 1. Define Model Class \n",
        "\n",
        "class LSTMLanguageModel(nn.Module):\n",
        "    def __init__(self, vocab_size, embed_size, hidden_size, num_layers, dropout):\n",
        "        super().__init__()\n",
        "        self.embedding = nn.Embedding(vocab_size, embed_size)\n",
        "        self.lstm = nn.LSTM(embed_size, hidden_size, num_layers,\n",
        "                            batch_first=True, dropout=dropout)\n",
        "        self.fc = nn.Linear(hidden_size, vocab_size)\n",
        "\n",
        "    def forward(self, x, hidden=None):\n",
        "        x = self.embedding(x)\n",
        "        out, hidden = self.lstm(x, hidden)\n",
        "        out = self.fc(out)\n",
        "        return out, hidden\n",
        "\n",
        "\n",
        "# 2. Load Model & Vocab\n",
        "\n",
        "out_dir = r\"C:\\Users\\valer\\Desktop\\New folder\\LSTM_shakespeare\"\n",
        "\n",
        "# Load vocab mappings\n",
        "vocab_data = torch.load(os.path.join(out_dir, \"vocab.pt\"))\n",
        "stoi, itos = vocab_data[\"stoi\"], vocab_data[\"itos\"]\n",
        "vocab_size = len(stoi)\n",
        "\n",
        "# Model config \n",
        "embed_size = 128\n",
        "hidden_size = 256\n",
        "num_layers = 2\n",
        "dropout = 0.2\n",
        "\n",
        "# Initialize model and load weights\n",
        "device = \"cuda\" if torch.cuda.is_available() else \"cpu\"\n",
        "model = LSTMLanguageModel(vocab_size, embed_size, hidden_size, num_layers, dropout).to(device)\n",
        "model.load_state_dict(torch.load(os.path.join(out_dir, \"lstm_model.pt\"), map_location=device))\n",
        "model.eval()\n",
        "\n",
        "print(\"Model and vocab loaded successfully\")\n",
        "\n",
        "\n",
        "# 3. Text Generation Function\n",
        "\n",
        "def generate_text(model, start_text, stoi, itos, length=300, temperature=1.0, device=\"cpu\"):\n",
        "    model.eval()\n",
        "    input_ids = torch.tensor([stoi[ch] for ch in start_text], dtype=torch.long).unsqueeze(0).to(device)\n",
        "    generated = list(start_text)\n",
        "    hidden = None\n",
        "\n",
        "    with torch.no_grad():\n",
        "        for _ in range(length):\n",
        "            output, hidden = model(input_ids, hidden)\n",
        "            logits = output[:, -1, :] / temperature\n",
        "            probs = F.softmax(logits, dim=-1)\n",
        "            next_id = torch.multinomial(probs, num_samples=1).item()\n",
        "            next_char = itos[next_id]\n",
        "            generated.append(next_char)\n",
        "            input_ids = torch.tensor([[next_id]], dtype=torch.long).to(device)\n",
        "\n",
        "    return ''.join(generated)\n",
        "\n",
        "\n",
        "# 4. Generate Samples\n",
        "\n",
        "for T in [0.7, 1.0, 1.3]:\n",
        "    sample = generate_text(model, start_text=\"ROMEO:\", stoi=stoi, itos=itos,\n",
        "                           length=300, temperature=T, device=device)\n",
        "    print(f\"\\n--- Sample (T={T}) ---\\n{sample}\\n\")\n"
      ]
    },
    {
      "cell_type": "markdown",
      "metadata": {},
      "source": [
        "### Main runner char tokenization"
      ]
    },
    {
      "cell_type": "code",
      "execution_count": 19,
      "metadata": {},
      "outputs": [
        {
          "name": "stdout",
          "output_type": "stream",
          "text": [
            "Dataset size: 1115394 characters\n",
            "Vocab size: 65\n",
            "Using device: cpu\n"
          ]
        },
        {
          "name": "stderr",
          "output_type": "stream",
          "text": [
            "Epoch 1/3: 100%|██████████| 13941/13941 [27:06<00:00,  8.57it/s, loss=1.12]\n"
          ]
        },
        {
          "name": "stdout",
          "output_type": "stream",
          "text": [
            "Epoch 1: Train Loss=1.253, Val Loss=1.020, Val PPL=2.774\n"
          ]
        },
        {
          "name": "stderr",
          "output_type": "stream",
          "text": [
            "Epoch 2/3: 100%|██████████| 13941/13941 [29:20<00:00,  7.92it/s, loss=1.04] \n"
          ]
        },
        {
          "name": "stdout",
          "output_type": "stream",
          "text": [
            "Epoch 2: Train Loss=1.061, Val Loss=0.932, Val PPL=2.539\n"
          ]
        },
        {
          "name": "stderr",
          "output_type": "stream",
          "text": [
            "Epoch 3/3: 100%|██████████| 13941/13941 [32:05<00:00,  7.24it/s, loss=1.04] \n"
          ]
        },
        {
          "name": "stdout",
          "output_type": "stream",
          "text": [
            "Epoch 3: Train Loss=1.021, Val Loss=0.897, Val PPL=2.452\n",
            "\n",
            "Final Test Loss: 0.898, Test PPL: 2.454\n"
          ]
        },
        {
          "data": {
            "image/png": "[encoded data removed]",
            "text/plain": [
              "<Figure size 800x500 with 1 Axes>"
            ]
          },
          "metadata": {},
          "output_type": "display_data"
        }
      ],
      "source": [
        "import requests, os, json, math\n",
        "import torch\n",
        "import torch.nn as nn\n",
        "import torch.optim as optim\n",
        "from torch.utils.data import DataLoader, Dataset, random_split\n",
        "from tqdm import tqdm\n",
        "import matplotlib.pyplot as plt\n",
        "\n",
        "# Char-level tokenization\n",
        "tokens = list(text)\n",
        "vocab = sorted(set(tokens))\n",
        "vocab_size = len(vocab)\n",
        "\n",
        "stoi = {ch: i for i, ch in enumerate(vocab)}\n",
        "itos = {i: ch for ch, i in stoi.items()}\n",
        "data = [stoi[ch] for ch in tokens]\n",
        "\n",
        "print(f\"Dataset size: {len(data)} characters\")\n",
        "print(f\"Vocab size: {vocab_size}\")\n",
        "\n",
        "\n",
        "# 2. Dataset\n",
        "\n",
        "class TextDataset(Dataset):\n",
        "    def __init__(self, data, seq_len):\n",
        "        self.data = data\n",
        "        self.seq_len = seq_len\n",
        "\n",
        "    def __len__(self):\n",
        "        return len(self.data) - self.seq_len\n",
        "\n",
        "    def __getitem__(self, idx):\n",
        "        x = torch.tensor(self.data[idx:idx+self.seq_len], dtype=torch.long)\n",
        "        y = torch.tensor(self.data[idx+1:idx+self.seq_len+1], dtype=torch.long)\n",
        "        return x, y\n",
        "\n",
        "\n",
        "# 3. Model (LSTM)\n",
        "\n",
        "class LSTMLanguageModel(nn.Module):\n",
        "    def __init__(self, vocab_size, embed_size, hidden_size, num_layers, dropout):\n",
        "        super().__init__()\n",
        "        self.embedding = nn.Embedding(vocab_size, embed_size)\n",
        "        self.lstm = nn.LSTM(embed_size, hidden_size, num_layers,\n",
        "                            batch_first=True, dropout=dropout)\n",
        "        self.fc = nn.Linear(hidden_size, vocab_size)\n",
        "\n",
        "    def forward(self, x, hidden=None):\n",
        "        x = self.embedding(x)\n",
        "        out, hidden = self.lstm(x, hidden)\n",
        "        out = self.fc(out)\n",
        "        return out, hidden\n",
        "\n",
        "\n",
        "# 4. Training & Eval\n",
        "\n",
        "def evaluate(model, loader, criterion, device):\n",
        "    model.eval()\n",
        "    total_loss = 0\n",
        "    with torch.no_grad():\n",
        "        for x, y in loader:\n",
        "            x, y = x.to(device), y.to(device)\n",
        "            out, _ = model(x)\n",
        "            loss = criterion(out.view(-1, out.size(-1)), y.view(-1))\n",
        "            total_loss += loss.item()\n",
        "    return total_loss / len(loader)\n",
        "\n",
        "def train_model(model, train_loader, val_loader, criterion, optimizer, epochs, device, clip=1.0):\n",
        "    train_losses, val_losses = [], []\n",
        "    for epoch in range(1, epochs+1):\n",
        "        model.train()\n",
        "        total_loss = 0\n",
        "        progress = tqdm(train_loader, desc=f\"Epoch {epoch}/{epochs}\")\n",
        "        for x, y in progress:\n",
        "            x, y = x.to(device), y.to(device)\n",
        "            optimizer.zero_grad()\n",
        "            out, _ = model(x)\n",
        "            loss = criterion(out.view(-1, out.size(-1)), y.view(-1))\n",
        "            loss.backward()\n",
        "            nn.utils.clip_grad_norm_(model.parameters(), clip)\n",
        "            optimizer.step()\n",
        "            total_loss += loss.item()\n",
        "            progress.set_postfix(loss=loss.item())\n",
        "\n",
        "        avg_train_loss = total_loss / len(train_loader)\n",
        "        avg_val_loss = evaluate(model, val_loader, criterion, device)\n",
        "        train_losses.append(avg_train_loss)\n",
        "        val_losses.append(avg_val_loss)\n",
        "\n",
        "        print(f\"Epoch {epoch}: Train Loss={avg_train_loss:.3f}, \"\n",
        "              f\"Val Loss={avg_val_loss:.3f}, Val PPL={math.exp(avg_val_loss):.3f}\")\n",
        "\n",
        "    return train_losses, val_losses\n",
        "\n",
        "\n",
        "# 5. Main\n",
        "\n",
        "if __name__ == \"__main__\":\n",
        "    # Configs (assignment)\n",
        "    seq_len = 128\n",
        "    batch_size = 64\n",
        "    embed_size = 128\n",
        "    hidden_size = 256\n",
        "    num_layers = 2\n",
        "    dropout = 0.2\n",
        "    lr = 1e-3\n",
        "    epochs = 3\n",
        "    device = \"cuda\" if torch.cuda.is_available() else \"cpu\"\n",
        "    print(\"Using device:\", device)\n",
        "\n",
        "    dataset = TextDataset(data, seq_len)\n",
        "\n",
        "    # 80/10/10 split\n",
        "    n = len(dataset)\n",
        "    train_size = int(0.8 * n)\n",
        "    val_size = int(0.1 * n)\n",
        "    test_size = n - train_size - val_size\n",
        "    train_ds, val_ds, test_ds = random_split(dataset, [train_size, val_size, test_size])\n",
        "\n",
        "    train_loader = DataLoader(train_ds, batch_size=batch_size, shuffle=True)\n",
        "    val_loader = DataLoader(val_ds, batch_size=batch_size)\n",
        "    test_loader = DataLoader(test_ds, batch_size=batch_size)\n",
        "\n",
        "    model = LSTMLanguageModel(vocab_size, embed_size, hidden_size, num_layers, dropout).to(device)\n",
        "    criterion = nn.CrossEntropyLoss()\n",
        "    optimizer = optim.Adam(model.parameters(), lr=lr)\n",
        "\n",
        "    train_losses, val_losses = train_model(model, train_loader, val_loader,\n",
        "                                           criterion, optimizer, epochs, device)\n",
        "\n",
        "    # Test set evaluation\n",
        "    test_loss = evaluate(model, test_loader, criterion, device)\n",
        "    print(f\"\\nFinal Test Loss: {test_loss:.3f}, Test PPL: {math.exp(test_loss):.3f}\")\n",
        "\n",
        "\n",
        "    # Save results\n",
        " \n",
        "    out_dir = r\"C:\\Users\\valer\\Desktop\\New folder\\LSTM_shakespeare\"\n",
        "    os.makedirs(out_dir, exist_ok=True)\n",
        "\n",
        "    torch.save(model.state_dict(), os.path.join(out_dir, \"lstm_model_char.pt\"))\n",
        "    torch.save({\"stoi\": stoi, \"itos\": itos}, os.path.join(out_dir, \"vocab_char.pt\"))\n",
        "\n",
        "    results = {\n",
        "        \"train_losses\": train_losses,\n",
        "        \"val_losses\": val_losses,\n",
        "        \"test_loss\": test_loss,\n",
        "        \"test_perplexity\": math.exp(test_loss)\n",
        "    }\n",
        "    with open(os.path.join(out_dir, \"evaluation_char.json\"), \"w\") as f:\n",
        "        json.dump(results, f, indent=4)\n",
        "\n",
        "    # Plot Training vs Validation Loss\n",
        "    plt.figure(figsize=(8,5))\n",
        "    plt.plot(range(1, len(train_losses)+1), train_losses, label=\"Train Loss\", marker=\"o\")\n",
        "    plt.plot(range(1, len(val_losses)+1), val_losses, label=\"Validation Loss\", marker=\"s\")\n",
        "    plt.xlabel(\"Epochs\")\n",
        "    plt.ylabel(\"Cross-Entropy Loss\")\n",
        "    plt.title(\"Training vs Validation Loss (Char-level LSTM)\")\n",
        "    plt.legend()\n",
        "    plt.grid(True)\n",
        "    plt.savefig(os.path.join(out_dir, \"loss_curve_char.png\"))\n",
        "    plt.show()\n"
      ]
    },
    {
      "cell_type": "code",
      "execution_count": 21,
      "metadata": {},
      "outputs": [
        {
          "name": "stderr",
          "output_type": "stream",
          "text": [
            "C:\\Users\\valer\\AppData\\Local\\Temp\\ipykernel_20388\\4124891485.py:25: FutureWarning: You are using `torch.load` with `weights_only=False` (the current default value), which uses the default pickle module implicitly. It is possible to construct malicious pickle data which will execute arbitrary code during unpickling (See https://github.com/pytorch/pytorch/blob/main/SECURITY.md#untrusted-models for more details). In a future release, the default value for `weights_only` will be flipped to `True`. This limits the functions that could be executed during unpickling. Arbitrary objects will no longer be allowed to be loaded via this mode unless they are explicitly allowlisted by the user via `torch.serialization.add_safe_globals`. We recommend you start setting `weights_only=True` for any use case where you don't have full control of the loaded file. Please open an issue on GitHub for any issues related to this experimental feature.\n",
            "  vocab_data = torch.load(os.path.join(out_dir, \"vocab_char.pt\"))\n",
            "C:\\Users\\valer\\AppData\\Local\\Temp\\ipykernel_20388\\4124891485.py:38: FutureWarning: You are using `torch.load` with `weights_only=False` (the current default value), which uses the default pickle module implicitly. It is possible to construct malicious pickle data which will execute arbitrary code during unpickling (See https://github.com/pytorch/pytorch/blob/main/SECURITY.md#untrusted-models for more details). In a future release, the default value for `weights_only` will be flipped to `True`. This limits the functions that could be executed during unpickling. Arbitrary objects will no longer be allowed to be loaded via this mode unless they are explicitly allowlisted by the user via `torch.serialization.add_safe_globals`. We recommend you start setting `weights_only=True` for any use case where you don't have full control of the loaded file. Please open an issue on GitHub for any issues related to this experimental feature.\n",
            "  model.load_state_dict(torch.load(os.path.join(out_dir, \"lstm_model_char.pt\"), map_location=device))\n"
          ]
        },
        {
          "name": "stdout",
          "output_type": "stream",
          "text": [
            "✅ Model loaded successfully\n",
            "\n",
            "--- Sample (T=0.7) ---\n",
            "ROMEO:\n",
            "Sir, I could not so turn my proud countenance,\n",
            "To seem the man that lovest them to them as hanged\n",
            "To purk it in the name of God and sight:\n",
            "And this is this worthy prison, so loved a fear.\n",
            "\n",
            "ROMEO:\n",
            "Ay, by the greatest came of the present pardon.\n",
            "\n",
            "DUKE VINCENTIO:\n",
            "Good prince:\n",
            "How fares our loving life\n",
            "\n",
            "\n",
            "--- Sample (T=1.0) ---\n",
            "ROMEO:\n",
            "If you turn away, I say, in our pitch, muting\n",
            "Than fair mistress, and condemned town,\n",
            "So many letters are quickly, when reap-snip,\n",
            "Of our damned gates of libewity.\n",
            "Ah, what should be stand not? But, marry,--fain with grief,\n",
            "To heaven may our fresh promoty and strength.\n",
            "ourself, with knocks as ann g\n",
            "\n",
            "\n",
            "--- Sample (T=1.3) ---\n",
            "ROMEO:\n",
            "O; I beseech you, marry, you must\n",
            "would be here\n",
            "Some vengeang in Most warrant himself, and evys\n",
            "his cunning! I'll not drrip at eight.\n",
            "\n",
            "NURSHES:\n",
            "Gallow! which Clifford fairly asly, pluck this?\n",
            "Dock hit myself, Kate, that a murder, he's fair;\n",
            "Or I'larry Quict-maning over Claudio.\n",
            "Are mine own vantage\n",
            "\n"
          ]
        }
      ],
      "source": [
        "import torch\n",
        "import torch.nn as nn\n",
        "import torch.nn.functional as F\n",
        "import os\n",
        "\n",
        "# === 1. Define Model Class (same as training) ===\n",
        "class LSTMLanguageModel(nn.Module):\n",
        "    def __init__(self, vocab_size, embed_size, hidden_size, num_layers, dropout):\n",
        "        super().__init__()\n",
        "        self.embedding = nn.Embedding(vocab_size, embed_size)\n",
        "        self.lstm = nn.LSTM(embed_size, hidden_size, num_layers,\n",
        "                            batch_first=True, dropout=dropout)\n",
        "        self.fc = nn.Linear(hidden_size, vocab_size)\n",
        "\n",
        "    def forward(self, x, hidden=None):\n",
        "        x = self.embedding(x)\n",
        "        out, hidden = self.lstm(x, hidden)\n",
        "        out = self.fc(out)\n",
        "        return out, hidden\n",
        "\n",
        "# === 2. Load Model & Vocab ===\n",
        "out_dir = r\"C:\\Users\\valer\\Desktop\\New folder\\LSTM_shakespeare\"\n",
        "\n",
        "# Load vocab\n",
        "vocab_data = torch.load(os.path.join(out_dir, \"vocab_char.pt\"))\n",
        "stoi, itos = vocab_data[\"stoi\"], vocab_data[\"itos\"]\n",
        "vocab_size = len(stoi)\n",
        "\n",
        "# Configs (must match training)\n",
        "embed_size = 128\n",
        "hidden_size = 256\n",
        "num_layers = 2\n",
        "dropout = 0.2\n",
        "\n",
        "device = \"cuda\" if torch.cuda.is_available() else \"cpu\"\n",
        "\n",
        "model = LSTMLanguageModel(vocab_size, embed_size, hidden_size, num_layers, dropout).to(device)\n",
        "model.load_state_dict(torch.load(os.path.join(out_dir, \"lstm_model_char.pt\"), map_location=device))\n",
        "model.eval()\n",
        "\n",
        "print(\"✅ Model loaded successfully\")\n",
        "\n",
        "# === 3. Generate Text Function ===\n",
        "def generate_text(model, start_text, stoi, itos, length=300, temperature=1.0, device=\"cpu\"):\n",
        "    model.eval()\n",
        "    input_ids = torch.tensor([stoi[ch] for ch in start_text], dtype=torch.long).unsqueeze(0).to(device)\n",
        "    generated = list(start_text)\n",
        "    hidden = None\n",
        "\n",
        "    with torch.no_grad():\n",
        "        for _ in range(length):\n",
        "            output, hidden = model(input_ids, hidden)\n",
        "            logits = output[:, -1, :] / temperature\n",
        "            probs = F.softmax(logits, dim=-1)\n",
        "            next_id = torch.multinomial(probs, num_samples=1).item()\n",
        "            next_char = itos[next_id]\n",
        "            generated.append(next_char)\n",
        "            input_ids = torch.tensor([[next_id]], dtype=torch.long).to(device)\n",
        "\n",
        "    return ''.join(generated)\n",
        "\n",
        "# === 4. Generate Samples ===\n",
        "for T in [0.7, 1.0, 1.3]:\n",
        "    sample = generate_text(model, start_text=\"ROMEO:\", stoi=stoi, itos=itos,\n",
        "                           length=300, temperature=T, device=device)\n",
        "    print(f\"\\n--- Sample (T={T}) ---\\n{sample}\\n\")\n"
      ]
    },
    {
      "cell_type": "markdown",
      "metadata": {},
      "source": [
        "### Comparison"
      ]
    },
    {
      "cell_type": "code",
      "execution_count": 26,
      "metadata": {},
      "outputs": [
        {
          "name": "stdout",
          "output_type": "stream",
          "text": [
            "Saved comparison plots to C:\\Users\\valer\\Desktop\\New folder\n"
          ]
        }
      ],
      "source": [
        "import json\n",
        "import matplotlib.pyplot as plt\n",
        "import os\n",
        "\n",
        "# === Load Results ===\n",
        "with open(r\"C:\\Users\\valer\\Desktop\\New folder\\LSTM_shakespeare\\evaluation.json\", \"r\") as f:\n",
        "    lstm_results = json.load(f)\n",
        "\n",
        "with open(r\"C:\\Users\\valer\\Desktop\\New folder\\RNN_base\\evaluation.json\", \"r\") as f:\n",
        "    rnn_results = json.load(f)\n",
        "\n",
        "# Extract losses\n",
        "lstm_train = lstm_results[\"train_losses\"]\n",
        "lstm_val = lstm_results[\"val_losses\"]\n",
        "rnn_train = rnn_results[\"train_losses\"]\n",
        "rnn_val = rnn_results[\"val_losses\"]\n",
        "\n",
        "# Epoch indices\n",
        "epochs_lstm = range(1, len(lstm_train) + 1)\n",
        "epochs_rnn = range(1, len(rnn_train) + 1)\n",
        "\n",
        "# Save folder\n",
        "out_dir = r\"C:\\Users\\valer\\Desktop\\New folder\"\n",
        "\n",
        "# --- Training Loss Comparison ---\n",
        "plt.figure(figsize=(8,5))\n",
        "plt.plot(epochs_rnn, rnn_train, label=\"RNN Train\", marker=\"o\")\n",
        "plt.plot(epochs_lstm, lstm_train, label=\"LSTM Train\", marker=\"s\")\n",
        "plt.xlabel(\"Epochs\")\n",
        "plt.ylabel(\"Cross-Entropy Loss\")\n",
        "plt.title(\"Training Loss: RNN vs LSTM\")\n",
        "plt.legend()\n",
        "plt.grid(True)\n",
        "plt.savefig(os.path.join(out_dir, \"train_loss_comparison.png\"))\n",
        "plt.close()\n",
        "\n",
        "# --- Validation Loss Comparison ---\n",
        "plt.figure(figsize=(8,5))\n",
        "plt.plot(epochs_rnn, rnn_val, label=\"RNN Val\", marker=\"o\", linestyle=\"--\")\n",
        "plt.plot(epochs_lstm, lstm_val, label=\"LSTM Val\", marker=\"s\", linestyle=\"--\")\n",
        "plt.xlabel(\"Epochs\")\n",
        "plt.ylabel(\"Cross-Entropy Loss\")\n",
        "plt.title(\"Validation Loss: RNN vs LSTM\")\n",
        "plt.legend()\n",
        "plt.grid(True)\n",
        "plt.savefig(os.path.join(out_dir, \"val_loss_comparison.png\"))\n",
        "plt.close()\n",
        "\n",
        "print(f\"Saved comparison plots to {out_dir}\")\n"
      ]
    }
  ],
  "metadata": {
    "colab": {
      "provenance": []
    },
    "kernelspec": {
      "display_name": "insyncenv",
      "language": "python",
      "name": "python3"
    },
    "language_info": {
      "codemirror_mode": {
        "name": "ipython",
        "version": 3
      },
      "file_extension": ".py",
      "mimetype": "text/x-python",
      "name": "python",
      "nbconvert_exporter": "python",
      "pygments_lexer": "ipython3",
      "version": "3.11.11"
    }
  },
  "nbformat": 4,
  "nbformat_minor": 0
}
